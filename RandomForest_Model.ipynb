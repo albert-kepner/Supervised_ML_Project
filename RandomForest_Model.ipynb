{
 "cells": [
  {
   "cell_type": "code",
   "execution_count": 1,
   "id": "cb02fb5c",
   "metadata": {},
   "outputs": [],
   "source": [
    "import pandas as pd\n",
    "import numpy as np\n",
    "import seaborn as sns\n",
    "import matplotlib.pyplot as plt\n",
    "from sklearn.model_selection import train_test_split\n",
    "from sklearn.metrics import confusion_matrix, accuracy_score, f1_score, precision_score, recall_score\n",
    "from sklearn.metrics import precision_recall_curve\n",
    "from sklearn.metrics import roc_curve, auc\n",
    "from sklearn.metrics import roc_auc_score\n",
    "\n",
    "## Read the training and test data sets previously split and stored as separage csv files\n",
    "## The last column labelled '86' is the 0/1 label indicationg benign/malware for each sample row.\n",
    "\n",
    "df_train = pd.read_csv(\"data/train_data.csv\")\n",
    "df_test = pd.read_csv(\"data/test_data.csv\")\n",
    "\n",
    "last_column = df_train.shape[1] - 1 ## index of the label column\n",
    "X_train = df_train.iloc[:,:last_column]\n",
    "y_train = df_train.iloc[:,last_column]\n",
    "\n",
    "X_test = df_test.iloc[:,:last_column]\n",
    "y_test = df_test.iloc[:,last_column]"
   ]
  },
  {
   "cell_type": "code",
   "execution_count": 46,
   "id": "63a284bf",
   "metadata": {},
   "outputs": [
    {
     "name": "stdout",
     "output_type": "stream",
     "text": [
      "Fitting 5 folds for each of 27 candidates, totalling 135 fits\n",
      "[CV 1/5] END ccp_alpha=0.0, max_depth=20, max_features=log2, min_samples_leaf=1, min_samples_split=2, n_estimators=100;, score=0.968 total time=   0.8s\n",
      "[CV 2/5] END ccp_alpha=0.0, max_depth=20, max_features=log2, min_samples_leaf=1, min_samples_split=2, n_estimators=100;, score=0.971 total time=   0.8s\n",
      "[CV 3/5] END ccp_alpha=0.0, max_depth=20, max_features=log2, min_samples_leaf=1, min_samples_split=2, n_estimators=100;, score=0.973 total time=   0.8s\n",
      "[CV 4/5] END ccp_alpha=0.0, max_depth=20, max_features=log2, min_samples_leaf=1, min_samples_split=2, n_estimators=100;, score=0.971 total time=   0.8s\n",
      "[CV 5/5] END ccp_alpha=0.0, max_depth=20, max_features=log2, min_samples_leaf=1, min_samples_split=2, n_estimators=100;, score=0.969 total time=   0.8s\n",
      "[CV 1/5] END ccp_alpha=0.0, max_depth=20, max_features=log2, min_samples_leaf=1, min_samples_split=2, n_estimators=110;, score=0.967 total time=   0.8s\n",
      "[CV 2/5] END ccp_alpha=0.0, max_depth=20, max_features=log2, min_samples_leaf=1, min_samples_split=2, n_estimators=110;, score=0.971 total time=   0.8s\n",
      "[CV 3/5] END ccp_alpha=0.0, max_depth=20, max_features=log2, min_samples_leaf=1, min_samples_split=2, n_estimators=110;, score=0.973 total time=   0.8s\n",
      "[CV 4/5] END ccp_alpha=0.0, max_depth=20, max_features=log2, min_samples_leaf=1, min_samples_split=2, n_estimators=110;, score=0.972 total time=   0.8s\n",
      "[CV 5/5] END ccp_alpha=0.0, max_depth=20, max_features=log2, min_samples_leaf=1, min_samples_split=2, n_estimators=110;, score=0.967 total time=   0.8s\n",
      "[CV 1/5] END ccp_alpha=0.0, max_depth=20, max_features=log2, min_samples_leaf=1, min_samples_split=2, n_estimators=120;, score=0.968 total time=   0.9s\n",
      "[CV 2/5] END ccp_alpha=0.0, max_depth=20, max_features=log2, min_samples_leaf=1, min_samples_split=2, n_estimators=120;, score=0.970 total time=   0.9s\n",
      "[CV 3/5] END ccp_alpha=0.0, max_depth=20, max_features=log2, min_samples_leaf=1, min_samples_split=2, n_estimators=120;, score=0.973 total time=   0.9s\n",
      "[CV 4/5] END ccp_alpha=0.0, max_depth=20, max_features=log2, min_samples_leaf=1, min_samples_split=2, n_estimators=120;, score=0.972 total time=   0.9s\n",
      "[CV 5/5] END ccp_alpha=0.0, max_depth=20, max_features=log2, min_samples_leaf=1, min_samples_split=2, n_estimators=120;, score=0.968 total time=   0.9s\n",
      "[CV 1/5] END ccp_alpha=0.0, max_depth=22, max_features=log2, min_samples_leaf=1, min_samples_split=2, n_estimators=100;, score=0.969 total time=   0.8s\n",
      "[CV 2/5] END ccp_alpha=0.0, max_depth=22, max_features=log2, min_samples_leaf=1, min_samples_split=2, n_estimators=100;, score=0.972 total time=   0.8s\n",
      "[CV 3/5] END ccp_alpha=0.0, max_depth=22, max_features=log2, min_samples_leaf=1, min_samples_split=2, n_estimators=100;, score=0.972 total time=   0.8s\n",
      "[CV 4/5] END ccp_alpha=0.0, max_depth=22, max_features=log2, min_samples_leaf=1, min_samples_split=2, n_estimators=100;, score=0.973 total time=   0.8s\n",
      "[CV 5/5] END ccp_alpha=0.0, max_depth=22, max_features=log2, min_samples_leaf=1, min_samples_split=2, n_estimators=100;, score=0.970 total time=   0.8s\n",
      "[CV 1/5] END ccp_alpha=0.0, max_depth=22, max_features=log2, min_samples_leaf=1, min_samples_split=2, n_estimators=110;, score=0.968 total time=   1.0s\n",
      "[CV 2/5] END ccp_alpha=0.0, max_depth=22, max_features=log2, min_samples_leaf=1, min_samples_split=2, n_estimators=110;, score=0.972 total time=   0.9s\n",
      "[CV 3/5] END ccp_alpha=0.0, max_depth=22, max_features=log2, min_samples_leaf=1, min_samples_split=2, n_estimators=110;, score=0.972 total time=   0.9s\n",
      "[CV 4/5] END ccp_alpha=0.0, max_depth=22, max_features=log2, min_samples_leaf=1, min_samples_split=2, n_estimators=110;, score=0.973 total time=   0.9s\n",
      "[CV 5/5] END ccp_alpha=0.0, max_depth=22, max_features=log2, min_samples_leaf=1, min_samples_split=2, n_estimators=110;, score=0.971 total time=   0.9s\n",
      "[CV 1/5] END ccp_alpha=0.0, max_depth=22, max_features=log2, min_samples_leaf=1, min_samples_split=2, n_estimators=120;, score=0.968 total time=   1.0s\n",
      "[CV 2/5] END ccp_alpha=0.0, max_depth=22, max_features=log2, min_samples_leaf=1, min_samples_split=2, n_estimators=120;, score=0.972 total time=   0.9s\n",
      "[CV 3/5] END ccp_alpha=0.0, max_depth=22, max_features=log2, min_samples_leaf=1, min_samples_split=2, n_estimators=120;, score=0.972 total time=   1.0s\n",
      "[CV 4/5] END ccp_alpha=0.0, max_depth=22, max_features=log2, min_samples_leaf=1, min_samples_split=2, n_estimators=120;, score=0.973 total time=   1.0s\n",
      "[CV 5/5] END ccp_alpha=0.0, max_depth=22, max_features=log2, min_samples_leaf=1, min_samples_split=2, n_estimators=120;, score=0.971 total time=   1.1s\n",
      "[CV 1/5] END ccp_alpha=0.0, max_depth=24, max_features=log2, min_samples_leaf=1, min_samples_split=2, n_estimators=100;, score=0.968 total time=   0.8s\n",
      "[CV 2/5] END ccp_alpha=0.0, max_depth=24, max_features=log2, min_samples_leaf=1, min_samples_split=2, n_estimators=100;, score=0.972 total time=   0.8s\n",
      "[CV 3/5] END ccp_alpha=0.0, max_depth=24, max_features=log2, min_samples_leaf=1, min_samples_split=2, n_estimators=100;, score=0.973 total time=   0.8s\n",
      "[CV 4/5] END ccp_alpha=0.0, max_depth=24, max_features=log2, min_samples_leaf=1, min_samples_split=2, n_estimators=100;, score=0.971 total time=   0.8s\n",
      "[CV 5/5] END ccp_alpha=0.0, max_depth=24, max_features=log2, min_samples_leaf=1, min_samples_split=2, n_estimators=100;, score=0.970 total time=   0.8s\n",
      "[CV 1/5] END ccp_alpha=0.0, max_depth=24, max_features=log2, min_samples_leaf=1, min_samples_split=2, n_estimators=110;, score=0.968 total time=   1.0s\n",
      "[CV 2/5] END ccp_alpha=0.0, max_depth=24, max_features=log2, min_samples_leaf=1, min_samples_split=2, n_estimators=110;, score=0.971 total time=   0.9s\n",
      "[CV 3/5] END ccp_alpha=0.0, max_depth=24, max_features=log2, min_samples_leaf=1, min_samples_split=2, n_estimators=110;, score=0.973 total time=   0.9s\n",
      "[CV 4/5] END ccp_alpha=0.0, max_depth=24, max_features=log2, min_samples_leaf=1, min_samples_split=2, n_estimators=110;, score=0.972 total time=   0.9s\n",
      "[CV 5/5] END ccp_alpha=0.0, max_depth=24, max_features=log2, min_samples_leaf=1, min_samples_split=2, n_estimators=110;, score=0.970 total time=   0.9s\n",
      "[CV 1/5] END ccp_alpha=0.0, max_depth=24, max_features=log2, min_samples_leaf=1, min_samples_split=2, n_estimators=120;, score=0.968 total time=   1.0s\n",
      "[CV 2/5] END ccp_alpha=0.0, max_depth=24, max_features=log2, min_samples_leaf=1, min_samples_split=2, n_estimators=120;, score=0.972 total time=   1.0s\n",
      "[CV 3/5] END ccp_alpha=0.0, max_depth=24, max_features=log2, min_samples_leaf=1, min_samples_split=2, n_estimators=120;, score=0.972 total time=   1.0s\n",
      "[CV 4/5] END ccp_alpha=0.0, max_depth=24, max_features=log2, min_samples_leaf=1, min_samples_split=2, n_estimators=120;, score=0.972 total time=   1.0s\n",
      "[CV 5/5] END ccp_alpha=0.0, max_depth=24, max_features=log2, min_samples_leaf=1, min_samples_split=2, n_estimators=120;, score=0.970 total time=   1.0s\n",
      "[CV 1/5] END ccp_alpha=0.005, max_depth=20, max_features=log2, min_samples_leaf=1, min_samples_split=2, n_estimators=100;, score=0.939 total time=   0.8s\n",
      "[CV 2/5] END ccp_alpha=0.005, max_depth=20, max_features=log2, min_samples_leaf=1, min_samples_split=2, n_estimators=100;, score=0.932 total time=   0.8s\n",
      "[CV 3/5] END ccp_alpha=0.005, max_depth=20, max_features=log2, min_samples_leaf=1, min_samples_split=2, n_estimators=100;, score=0.937 total time=   0.8s\n",
      "[CV 4/5] END ccp_alpha=0.005, max_depth=20, max_features=log2, min_samples_leaf=1, min_samples_split=2, n_estimators=100;, score=0.939 total time=   0.8s\n",
      "[CV 5/5] END ccp_alpha=0.005, max_depth=20, max_features=log2, min_samples_leaf=1, min_samples_split=2, n_estimators=100;, score=0.935 total time=   0.8s\n",
      "[CV 1/5] END ccp_alpha=0.005, max_depth=20, max_features=log2, min_samples_leaf=1, min_samples_split=2, n_estimators=110;, score=0.939 total time=   0.9s\n",
      "[CV 2/5] END ccp_alpha=0.005, max_depth=20, max_features=log2, min_samples_leaf=1, min_samples_split=2, n_estimators=110;, score=0.931 total time=   0.9s\n",
      "[CV 3/5] END ccp_alpha=0.005, max_depth=20, max_features=log2, min_samples_leaf=1, min_samples_split=2, n_estimators=110;, score=0.937 total time=   0.9s\n",
      "[CV 4/5] END ccp_alpha=0.005, max_depth=20, max_features=log2, min_samples_leaf=1, min_samples_split=2, n_estimators=110;, score=0.939 total time=   0.9s\n"
     ]
    },
    {
     "name": "stdout",
     "output_type": "stream",
     "text": [
      "[CV 5/5] END ccp_alpha=0.005, max_depth=20, max_features=log2, min_samples_leaf=1, min_samples_split=2, n_estimators=110;, score=0.943 total time=   0.9s\n",
      "[CV 1/5] END ccp_alpha=0.005, max_depth=20, max_features=log2, min_samples_leaf=1, min_samples_split=2, n_estimators=120;, score=0.940 total time=   1.0s\n",
      "[CV 2/5] END ccp_alpha=0.005, max_depth=20, max_features=log2, min_samples_leaf=1, min_samples_split=2, n_estimators=120;, score=0.931 total time=   1.0s\n",
      "[CV 3/5] END ccp_alpha=0.005, max_depth=20, max_features=log2, min_samples_leaf=1, min_samples_split=2, n_estimators=120;, score=0.949 total time=   1.0s\n",
      "[CV 4/5] END ccp_alpha=0.005, max_depth=20, max_features=log2, min_samples_leaf=1, min_samples_split=2, n_estimators=120;, score=0.939 total time=   0.9s\n",
      "[CV 5/5] END ccp_alpha=0.005, max_depth=20, max_features=log2, min_samples_leaf=1, min_samples_split=2, n_estimators=120;, score=0.944 total time=   0.9s\n",
      "[CV 1/5] END ccp_alpha=0.005, max_depth=22, max_features=log2, min_samples_leaf=1, min_samples_split=2, n_estimators=100;, score=0.940 total time=   0.8s\n",
      "[CV 2/5] END ccp_alpha=0.005, max_depth=22, max_features=log2, min_samples_leaf=1, min_samples_split=2, n_estimators=100;, score=0.928 total time=   0.8s\n",
      "[CV 3/5] END ccp_alpha=0.005, max_depth=22, max_features=log2, min_samples_leaf=1, min_samples_split=2, n_estimators=100;, score=0.948 total time=   0.8s\n",
      "[CV 4/5] END ccp_alpha=0.005, max_depth=22, max_features=log2, min_samples_leaf=1, min_samples_split=2, n_estimators=100;, score=0.936 total time=   0.8s\n",
      "[CV 5/5] END ccp_alpha=0.005, max_depth=22, max_features=log2, min_samples_leaf=1, min_samples_split=2, n_estimators=100;, score=0.945 total time=   0.8s\n",
      "[CV 1/5] END ccp_alpha=0.005, max_depth=22, max_features=log2, min_samples_leaf=1, min_samples_split=2, n_estimators=110;, score=0.941 total time=   0.9s\n",
      "[CV 2/5] END ccp_alpha=0.005, max_depth=22, max_features=log2, min_samples_leaf=1, min_samples_split=2, n_estimators=110;, score=0.929 total time=   0.9s\n",
      "[CV 3/5] END ccp_alpha=0.005, max_depth=22, max_features=log2, min_samples_leaf=1, min_samples_split=2, n_estimators=110;, score=0.946 total time=   0.9s\n",
      "[CV 4/5] END ccp_alpha=0.005, max_depth=22, max_features=log2, min_samples_leaf=1, min_samples_split=2, n_estimators=110;, score=0.935 total time=   1.0s\n",
      "[CV 5/5] END ccp_alpha=0.005, max_depth=22, max_features=log2, min_samples_leaf=1, min_samples_split=2, n_estimators=110;, score=0.936 total time=   0.9s\n",
      "[CV 1/5] END ccp_alpha=0.005, max_depth=22, max_features=log2, min_samples_leaf=1, min_samples_split=2, n_estimators=120;, score=0.941 total time=   1.0s\n",
      "[CV 2/5] END ccp_alpha=0.005, max_depth=22, max_features=log2, min_samples_leaf=1, min_samples_split=2, n_estimators=120;, score=0.930 total time=   1.0s\n",
      "[CV 3/5] END ccp_alpha=0.005, max_depth=22, max_features=log2, min_samples_leaf=1, min_samples_split=2, n_estimators=120;, score=0.946 total time=   1.0s\n",
      "[CV 4/5] END ccp_alpha=0.005, max_depth=22, max_features=log2, min_samples_leaf=1, min_samples_split=2, n_estimators=120;, score=0.935 total time=   1.0s\n",
      "[CV 5/5] END ccp_alpha=0.005, max_depth=22, max_features=log2, min_samples_leaf=1, min_samples_split=2, n_estimators=120;, score=0.935 total time=   1.0s\n",
      "[CV 1/5] END ccp_alpha=0.005, max_depth=24, max_features=log2, min_samples_leaf=1, min_samples_split=2, n_estimators=100;, score=0.933 total time=   0.8s\n",
      "[CV 2/5] END ccp_alpha=0.005, max_depth=24, max_features=log2, min_samples_leaf=1, min_samples_split=2, n_estimators=100;, score=0.933 total time=   0.9s\n",
      "[CV 3/5] END ccp_alpha=0.005, max_depth=24, max_features=log2, min_samples_leaf=1, min_samples_split=2, n_estimators=100;, score=0.937 total time=   0.8s\n",
      "[CV 4/5] END ccp_alpha=0.005, max_depth=24, max_features=log2, min_samples_leaf=1, min_samples_split=2, n_estimators=100;, score=0.946 total time=   0.9s\n",
      "[CV 5/5] END ccp_alpha=0.005, max_depth=24, max_features=log2, min_samples_leaf=1, min_samples_split=2, n_estimators=100;, score=0.945 total time=   0.9s\n",
      "[CV 1/5] END ccp_alpha=0.005, max_depth=24, max_features=log2, min_samples_leaf=1, min_samples_split=2, n_estimators=110;, score=0.942 total time=   1.0s\n",
      "[CV 2/5] END ccp_alpha=0.005, max_depth=24, max_features=log2, min_samples_leaf=1, min_samples_split=2, n_estimators=110;, score=0.931 total time=   0.9s\n",
      "[CV 3/5] END ccp_alpha=0.005, max_depth=24, max_features=log2, min_samples_leaf=1, min_samples_split=2, n_estimators=110;, score=0.938 total time=   0.9s\n",
      "[CV 4/5] END ccp_alpha=0.005, max_depth=24, max_features=log2, min_samples_leaf=1, min_samples_split=2, n_estimators=110;, score=0.945 total time=   1.0s\n",
      "[CV 5/5] END ccp_alpha=0.005, max_depth=24, max_features=log2, min_samples_leaf=1, min_samples_split=2, n_estimators=110;, score=0.945 total time=   0.9s\n",
      "[CV 1/5] END ccp_alpha=0.005, max_depth=24, max_features=log2, min_samples_leaf=1, min_samples_split=2, n_estimators=120;, score=0.941 total time=   1.1s\n",
      "[CV 2/5] END ccp_alpha=0.005, max_depth=24, max_features=log2, min_samples_leaf=1, min_samples_split=2, n_estimators=120;, score=0.931 total time=   1.1s\n",
      "[CV 3/5] END ccp_alpha=0.005, max_depth=24, max_features=log2, min_samples_leaf=1, min_samples_split=2, n_estimators=120;, score=0.938 total time=   1.0s\n",
      "[CV 4/5] END ccp_alpha=0.005, max_depth=24, max_features=log2, min_samples_leaf=1, min_samples_split=2, n_estimators=120;, score=0.948 total time=   1.0s\n",
      "[CV 5/5] END ccp_alpha=0.005, max_depth=24, max_features=log2, min_samples_leaf=1, min_samples_split=2, n_estimators=120;, score=0.945 total time=   1.0s\n",
      "[CV 1/5] END ccp_alpha=0.01, max_depth=20, max_features=log2, min_samples_leaf=1, min_samples_split=2, n_estimators=100;, score=0.926 total time=   0.8s\n",
      "[CV 2/5] END ccp_alpha=0.01, max_depth=20, max_features=log2, min_samples_leaf=1, min_samples_split=2, n_estimators=100;, score=0.927 total time=   0.8s\n",
      "[CV 3/5] END ccp_alpha=0.01, max_depth=20, max_features=log2, min_samples_leaf=1, min_samples_split=2, n_estimators=100;, score=0.932 total time=   0.8s\n",
      "[CV 4/5] END ccp_alpha=0.01, max_depth=20, max_features=log2, min_samples_leaf=1, min_samples_split=2, n_estimators=100;, score=0.935 total time=   0.8s\n",
      "[CV 5/5] END ccp_alpha=0.01, max_depth=20, max_features=log2, min_samples_leaf=1, min_samples_split=2, n_estimators=100;, score=0.930 total time=   0.8s\n",
      "[CV 1/5] END ccp_alpha=0.01, max_depth=20, max_features=log2, min_samples_leaf=1, min_samples_split=2, n_estimators=110;, score=0.927 total time=   0.9s\n",
      "[CV 2/5] END ccp_alpha=0.01, max_depth=20, max_features=log2, min_samples_leaf=1, min_samples_split=2, n_estimators=110;, score=0.927 total time=   0.9s\n",
      "[CV 3/5] END ccp_alpha=0.01, max_depth=20, max_features=log2, min_samples_leaf=1, min_samples_split=2, n_estimators=110;, score=0.932 total time=   0.9s\n",
      "[CV 4/5] END ccp_alpha=0.01, max_depth=20, max_features=log2, min_samples_leaf=1, min_samples_split=2, n_estimators=110;, score=0.933 total time=   0.8s\n",
      "[CV 5/5] END ccp_alpha=0.01, max_depth=20, max_features=log2, min_samples_leaf=1, min_samples_split=2, n_estimators=110;, score=0.931 total time=   1.0s\n",
      "[CV 1/5] END ccp_alpha=0.01, max_depth=20, max_features=log2, min_samples_leaf=1, min_samples_split=2, n_estimators=120;, score=0.927 total time=   0.9s\n",
      "[CV 2/5] END ccp_alpha=0.01, max_depth=20, max_features=log2, min_samples_leaf=1, min_samples_split=2, n_estimators=120;, score=0.927 total time=   0.9s\n",
      "[CV 3/5] END ccp_alpha=0.01, max_depth=20, max_features=log2, min_samples_leaf=1, min_samples_split=2, n_estimators=120;, score=0.932 total time=   0.9s\n",
      "[CV 4/5] END ccp_alpha=0.01, max_depth=20, max_features=log2, min_samples_leaf=1, min_samples_split=2, n_estimators=120;, score=0.936 total time=   0.9s\n",
      "[CV 5/5] END ccp_alpha=0.01, max_depth=20, max_features=log2, min_samples_leaf=1, min_samples_split=2, n_estimators=120;, score=0.930 total time=   0.9s\n",
      "[CV 1/5] END ccp_alpha=0.01, max_depth=22, max_features=log2, min_samples_leaf=1, min_samples_split=2, n_estimators=100;, score=0.924 total time=   0.8s\n",
      "[CV 2/5] END ccp_alpha=0.01, max_depth=22, max_features=log2, min_samples_leaf=1, min_samples_split=2, n_estimators=100;, score=0.925 total time=   0.8s\n",
      "[CV 3/5] END ccp_alpha=0.01, max_depth=22, max_features=log2, min_samples_leaf=1, min_samples_split=2, n_estimators=100;, score=0.931 total time=   0.8s\n"
     ]
    },
    {
     "name": "stdout",
     "output_type": "stream",
     "text": [
      "[CV 4/5] END ccp_alpha=0.01, max_depth=22, max_features=log2, min_samples_leaf=1, min_samples_split=2, n_estimators=100;, score=0.932 total time=   0.8s\n",
      "[CV 5/5] END ccp_alpha=0.01, max_depth=22, max_features=log2, min_samples_leaf=1, min_samples_split=2, n_estimators=100;, score=0.926 total time=   0.8s\n",
      "[CV 1/5] END ccp_alpha=0.01, max_depth=22, max_features=log2, min_samples_leaf=1, min_samples_split=2, n_estimators=110;, score=0.926 total time=   0.9s\n",
      "[CV 2/5] END ccp_alpha=0.01, max_depth=22, max_features=log2, min_samples_leaf=1, min_samples_split=2, n_estimators=110;, score=0.925 total time=   0.9s\n",
      "[CV 3/5] END ccp_alpha=0.01, max_depth=22, max_features=log2, min_samples_leaf=1, min_samples_split=2, n_estimators=110;, score=0.931 total time=   0.9s\n",
      "[CV 4/5] END ccp_alpha=0.01, max_depth=22, max_features=log2, min_samples_leaf=1, min_samples_split=2, n_estimators=110;, score=0.931 total time=   0.9s\n",
      "[CV 5/5] END ccp_alpha=0.01, max_depth=22, max_features=log2, min_samples_leaf=1, min_samples_split=2, n_estimators=110;, score=0.926 total time=   0.9s\n",
      "[CV 1/5] END ccp_alpha=0.01, max_depth=22, max_features=log2, min_samples_leaf=1, min_samples_split=2, n_estimators=120;, score=0.925 total time=   1.1s\n",
      "[CV 2/5] END ccp_alpha=0.01, max_depth=22, max_features=log2, min_samples_leaf=1, min_samples_split=2, n_estimators=120;, score=0.926 total time=   1.1s\n",
      "[CV 3/5] END ccp_alpha=0.01, max_depth=22, max_features=log2, min_samples_leaf=1, min_samples_split=2, n_estimators=120;, score=0.933 total time=   1.0s\n",
      "[CV 4/5] END ccp_alpha=0.01, max_depth=22, max_features=log2, min_samples_leaf=1, min_samples_split=2, n_estimators=120;, score=0.933 total time=   1.0s\n",
      "[CV 5/5] END ccp_alpha=0.01, max_depth=22, max_features=log2, min_samples_leaf=1, min_samples_split=2, n_estimators=120;, score=0.925 total time=   1.0s\n",
      "[CV 1/5] END ccp_alpha=0.01, max_depth=24, max_features=log2, min_samples_leaf=1, min_samples_split=2, n_estimators=100;, score=0.927 total time=   0.8s\n",
      "[CV 2/5] END ccp_alpha=0.01, max_depth=24, max_features=log2, min_samples_leaf=1, min_samples_split=2, n_estimators=100;, score=0.927 total time=   0.8s\n",
      "[CV 3/5] END ccp_alpha=0.01, max_depth=24, max_features=log2, min_samples_leaf=1, min_samples_split=2, n_estimators=100;, score=0.932 total time=   0.8s\n",
      "[CV 4/5] END ccp_alpha=0.01, max_depth=24, max_features=log2, min_samples_leaf=1, min_samples_split=2, n_estimators=100;, score=0.932 total time=   0.8s\n",
      "[CV 5/5] END ccp_alpha=0.01, max_depth=24, max_features=log2, min_samples_leaf=1, min_samples_split=2, n_estimators=100;, score=0.931 total time=   0.8s\n",
      "[CV 1/5] END ccp_alpha=0.01, max_depth=24, max_features=log2, min_samples_leaf=1, min_samples_split=2, n_estimators=110;, score=0.928 total time=   1.0s\n",
      "[CV 2/5] END ccp_alpha=0.01, max_depth=24, max_features=log2, min_samples_leaf=1, min_samples_split=2, n_estimators=110;, score=0.927 total time=   0.9s\n",
      "[CV 3/5] END ccp_alpha=0.01, max_depth=24, max_features=log2, min_samples_leaf=1, min_samples_split=2, n_estimators=110;, score=0.934 total time=   0.9s\n",
      "[CV 4/5] END ccp_alpha=0.01, max_depth=24, max_features=log2, min_samples_leaf=1, min_samples_split=2, n_estimators=110;, score=0.933 total time=   0.9s\n",
      "[CV 5/5] END ccp_alpha=0.01, max_depth=24, max_features=log2, min_samples_leaf=1, min_samples_split=2, n_estimators=110;, score=0.930 total time=   0.9s\n",
      "[CV 1/5] END ccp_alpha=0.01, max_depth=24, max_features=log2, min_samples_leaf=1, min_samples_split=2, n_estimators=120;, score=0.927 total time=   1.0s\n",
      "[CV 2/5] END ccp_alpha=0.01, max_depth=24, max_features=log2, min_samples_leaf=1, min_samples_split=2, n_estimators=120;, score=0.928 total time=   1.1s\n",
      "[CV 3/5] END ccp_alpha=0.01, max_depth=24, max_features=log2, min_samples_leaf=1, min_samples_split=2, n_estimators=120;, score=0.934 total time=   1.0s\n",
      "[CV 4/5] END ccp_alpha=0.01, max_depth=24, max_features=log2, min_samples_leaf=1, min_samples_split=2, n_estimators=120;, score=0.932 total time=   1.0s\n",
      "[CV 5/5] END ccp_alpha=0.01, max_depth=24, max_features=log2, min_samples_leaf=1, min_samples_split=2, n_estimators=120;, score=0.931 total time=   1.0s\n"
     ]
    },
    {
     "data": {
      "text/plain": [
       "GridSearchCV(estimator=RandomForestClassifier(random_state=47),\n",
       "             param_grid={'ccp_alpha': [0.0, 0.005, 0.01],\n",
       "                         'max_depth': [20, 22, 24], 'max_features': ['log2'],\n",
       "                         'min_samples_leaf': [1], 'min_samples_split': [2],\n",
       "                         'n_estimators': [100, 110, 120]},\n",
       "             scoring='accuracy', verbose=3)"
      ]
     },
     "execution_count": 46,
     "metadata": {},
     "output_type": "execute_result"
    }
   ],
   "source": [
    "from sklearn.model_selection import GridSearchCV\n",
    "from sklearn.ensemble import RandomForestClassifier\n",
    "\n",
    "estimator = RandomForestClassifier(random_state = 47)\n",
    "\n",
    "parameters = {'n_estimators': [100, 110, 120],\n",
    "              'max_depth': [20,22,24], \n",
    "              'min_samples_split': [2],\n",
    "             'min_samples_leaf': [1],\n",
    "             'max_features': ['log2'],\n",
    "             'ccp_alpha': [0.0, 0.005, 0.01]}\n",
    "model = GridSearchCV(estimator, parameters ,scoring='accuracy',verbose=3)\n",
    "model.fit(X_train, y_train)"
   ]
  },
  {
   "cell_type": "code",
   "execution_count": 47,
   "id": "78c719b2",
   "metadata": {},
   "outputs": [
    {
     "data": {
      "text/plain": [
       "{'ccp_alpha': 0.0,\n",
       " 'max_depth': 22,\n",
       " 'max_features': 'log2',\n",
       " 'min_samples_leaf': 1,\n",
       " 'min_samples_split': 2,\n",
       " 'n_estimators': 120}"
      ]
     },
     "execution_count": 47,
     "metadata": {},
     "output_type": "execute_result"
    }
   ],
   "source": [
    "model.best_params_"
   ]
  },
  {
   "cell_type": "code",
   "execution_count": 48,
   "id": "d3653549",
   "metadata": {},
   "outputs": [
    {
     "data": {
      "text/plain": [
       "RandomForestClassifier(max_depth=22, max_features='log2', n_estimators=120,\n",
       "                       random_state=47)"
      ]
     },
     "execution_count": 48,
     "metadata": {},
     "output_type": "execute_result"
    }
   ],
   "source": [
    "model.best_estimator_"
   ]
  },
  {
   "cell_type": "code",
   "execution_count": 49,
   "id": "9cdc096c",
   "metadata": {},
   "outputs": [
    {
     "name": "stdout",
     "output_type": "stream",
     "text": [
      "acc 0.9676136363636364\n",
      "recall 0.9645103324348607\n",
      "precision 0.9712734675412803\n",
      "F1 0.9678800856531049\n"
     ]
    },
    {
     "data": {
      "text/html": [
       "<div>\n",
       "<style scoped>\n",
       "    .dataframe tbody tr th:only-of-type {\n",
       "        vertical-align: middle;\n",
       "    }\n",
       "\n",
       "    .dataframe tbody tr th {\n",
       "        vertical-align: top;\n",
       "    }\n",
       "\n",
       "    .dataframe thead th {\n",
       "        text-align: right;\n",
       "    }\n",
       "</style>\n",
       "<table border=\"1\" class=\"dataframe\">\n",
       "  <thead>\n",
       "    <tr style=\"text-align: right;\">\n",
       "      <th></th>\n",
       "      <th>0</th>\n",
       "      <th>1</th>\n",
       "    </tr>\n",
       "  </thead>\n",
       "  <tbody>\n",
       "    <tr>\n",
       "      <th>0</th>\n",
       "      <td>4221</td>\n",
       "      <td>127</td>\n",
       "    </tr>\n",
       "    <tr>\n",
       "      <th>1</th>\n",
       "      <td>158</td>\n",
       "      <td>4294</td>\n",
       "    </tr>\n",
       "  </tbody>\n",
       "</table>\n",
       "</div>"
      ],
      "text/plain": [
       "      0     1\n",
       "0  4221   127\n",
       "1   158  4294"
      ]
     },
     "execution_count": 49,
     "metadata": {},
     "output_type": "execute_result"
    }
   ],
   "source": [
    "yp = model.predict(X_test)\n",
    "print('acc', accuracy_score(y_test, yp))\n",
    "print('recall', recall_score(y_test, yp))\n",
    "print('precision', precision_score(y_test, yp))\n",
    "print('F1', f1_score(y_test, yp))\n",
    "pd.DataFrame(confusion_matrix(y_test,yp))"
   ]
  },
  {
   "cell_type": "code",
   "execution_count": null,
   "id": "5b418be0",
   "metadata": {},
   "outputs": [],
   "source": []
  },
  {
   "cell_type": "code",
   "execution_count": null,
   "id": "0f807745",
   "metadata": {},
   "outputs": [],
   "source": []
  }
 ],
 "metadata": {
  "kernelspec": {
   "display_name": "Python 3 (ipykernel)",
   "language": "python",
   "name": "python3"
  },
  "language_info": {
   "codemirror_mode": {
    "name": "ipython",
    "version": 3
   },
   "file_extension": ".py",
   "mimetype": "text/x-python",
   "name": "python",
   "nbconvert_exporter": "python",
   "pygments_lexer": "ipython3",
   "version": "3.7.11"
  }
 },
 "nbformat": 4,
 "nbformat_minor": 5
}
