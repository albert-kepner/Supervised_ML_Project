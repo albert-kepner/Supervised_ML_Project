{
 "cells": [
  {
   "cell_type": "code",
   "execution_count": 1,
   "id": "0b7b9ff1",
   "metadata": {},
   "outputs": [],
   "source": [
    "import pandas as pd\n",
    "import numpy as np\n",
    "import seaborn as sns\n",
    "import matplotlib.pyplot as plt\n",
    "from sklearn.model_selection import train_test_split\n",
    "from sklearn.metrics import confusion_matrix, accuracy_score, f1_score, precision_score, recall_score\n",
    "from sklearn.metrics import precision_recall_curve\n",
    "from sklearn.metrics import roc_curve, auc\n",
    "from sklearn.metrics import roc_auc_score\n",
    "\n",
    "## Read the training and test data sets previously split and stored as separage csv files\n",
    "## The last column labelled '86' is the 0/1 label indicationg benign/malware for each sample row.\n",
    "\n",
    "df_train = pd.read_csv(\"data/train_data.csv\")\n",
    "df_test = pd.read_csv(\"data/test_data.csv\")\n",
    "\n",
    "last_column = df_train.shape[1] - 1 ## index of the label column\n",
    "X_train = df_train.iloc[:,:last_column]\n",
    "y_train = df_train.iloc[:,last_column]\n",
    "\n",
    "X_test = df_test.iloc[:,:last_column]\n",
    "y_test = df_test.iloc[:,last_column]"
   ]
  },
  {
   "cell_type": "code",
   "execution_count": 2,
   "id": "015ddee4",
   "metadata": {},
   "outputs": [],
   "source": [
    "from sklearn.model_selection import GridSearchCV\n",
    "from sklearn.svm import SVC"
   ]
  },
  {
   "cell_type": "code",
   "execution_count": 8,
   "id": "0b4c5f8a",
   "metadata": {},
   "outputs": [
    {
     "name": "stdout",
     "output_type": "stream",
     "text": [
      "Fitting 5 folds for each of 16 candidates, totalling 80 fits\n",
      "[CV 1/5] END ..............C=1.0, kernel=linear;, score=0.956 total time=   3.6s\n",
      "[CV 2/5] END ..............C=1.0, kernel=linear;, score=0.958 total time=   3.2s\n",
      "[CV 3/5] END ..............C=1.0, kernel=linear;, score=0.963 total time=   3.3s\n",
      "[CV 4/5] END ..............C=1.0, kernel=linear;, score=0.961 total time=   3.4s\n",
      "[CV 5/5] END ..............C=1.0, kernel=linear;, score=0.958 total time=   3.3s\n",
      "[CV 1/5] END ................C=1.0, kernel=poly;, score=0.960 total time=   2.7s\n",
      "[CV 2/5] END ................C=1.0, kernel=poly;, score=0.963 total time=   2.7s\n",
      "[CV 3/5] END ................C=1.0, kernel=poly;, score=0.964 total time=   2.7s\n",
      "[CV 4/5] END ................C=1.0, kernel=poly;, score=0.962 total time=   2.7s\n",
      "[CV 5/5] END ................C=1.0, kernel=poly;, score=0.964 total time=   2.8s\n",
      "[CV 1/5] END .................C=1.0, kernel=rbf;, score=0.964 total time=   3.3s\n",
      "[CV 2/5] END .................C=1.0, kernel=rbf;, score=0.967 total time=   3.5s\n",
      "[CV 3/5] END .................C=1.0, kernel=rbf;, score=0.969 total time=   3.4s\n",
      "[CV 4/5] END .................C=1.0, kernel=rbf;, score=0.968 total time=   3.8s\n",
      "[CV 5/5] END .................C=1.0, kernel=rbf;, score=0.963 total time=   3.6s\n",
      "[CV 1/5] END .............C=1.0, kernel=sigmoid;, score=0.870 total time=   3.7s\n",
      "[CV 2/5] END .............C=1.0, kernel=sigmoid;, score=0.871 total time=   3.7s\n",
      "[CV 3/5] END .............C=1.0, kernel=sigmoid;, score=0.871 total time=   3.8s\n",
      "[CV 4/5] END .............C=1.0, kernel=sigmoid;, score=0.870 total time=   3.6s\n",
      "[CV 5/5] END .............C=1.0, kernel=sigmoid;, score=0.881 total time=   3.8s\n",
      "[CV 1/5] END ..............C=2.0, kernel=linear;, score=0.955 total time=   4.3s\n",
      "[CV 2/5] END ..............C=2.0, kernel=linear;, score=0.958 total time=   4.2s\n",
      "[CV 3/5] END ..............C=2.0, kernel=linear;, score=0.964 total time=   3.8s\n",
      "[CV 4/5] END ..............C=2.0, kernel=linear;, score=0.961 total time=   4.2s\n",
      "[CV 5/5] END ..............C=2.0, kernel=linear;, score=0.958 total time=   4.6s\n",
      "[CV 1/5] END ................C=2.0, kernel=poly;, score=0.961 total time=   2.5s\n",
      "[CV 2/5] END ................C=2.0, kernel=poly;, score=0.965 total time=   2.7s\n",
      "[CV 3/5] END ................C=2.0, kernel=poly;, score=0.964 total time=   2.5s\n",
      "[CV 4/5] END ................C=2.0, kernel=poly;, score=0.963 total time=   2.5s\n",
      "[CV 5/5] END ................C=2.0, kernel=poly;, score=0.964 total time=   2.5s\n",
      "[CV 1/5] END .................C=2.0, kernel=rbf;, score=0.966 total time=   3.3s\n",
      "[CV 2/5] END .................C=2.0, kernel=rbf;, score=0.969 total time=   3.5s\n",
      "[CV 3/5] END .................C=2.0, kernel=rbf;, score=0.969 total time=   3.4s\n",
      "[CV 4/5] END .................C=2.0, kernel=rbf;, score=0.969 total time=   3.3s\n",
      "[CV 5/5] END .................C=2.0, kernel=rbf;, score=0.966 total time=   3.2s\n",
      "[CV 1/5] END .............C=2.0, kernel=sigmoid;, score=0.868 total time=   3.7s\n",
      "[CV 2/5] END .............C=2.0, kernel=sigmoid;, score=0.869 total time=   3.7s\n",
      "[CV 3/5] END .............C=2.0, kernel=sigmoid;, score=0.868 total time=   3.6s\n",
      "[CV 4/5] END .............C=2.0, kernel=sigmoid;, score=0.866 total time=   3.5s\n",
      "[CV 5/5] END .............C=2.0, kernel=sigmoid;, score=0.879 total time=   3.6s\n",
      "[CV 1/5] END ..............C=5.0, kernel=linear;, score=0.956 total time=   5.9s\n",
      "[CV 2/5] END ..............C=5.0, kernel=linear;, score=0.958 total time=   6.2s\n",
      "[CV 3/5] END ..............C=5.0, kernel=linear;, score=0.963 total time=   5.9s\n",
      "[CV 4/5] END ..............C=5.0, kernel=linear;, score=0.961 total time=   6.3s\n",
      "[CV 5/5] END ..............C=5.0, kernel=linear;, score=0.958 total time=   6.5s\n",
      "[CV 1/5] END ................C=5.0, kernel=poly;, score=0.964 total time=   2.5s\n",
      "[CV 2/5] END ................C=5.0, kernel=poly;, score=0.969 total time=   2.7s\n",
      "[CV 3/5] END ................C=5.0, kernel=poly;, score=0.968 total time=   2.6s\n",
      "[CV 4/5] END ................C=5.0, kernel=poly;, score=0.968 total time=   2.5s\n",
      "[CV 5/5] END ................C=5.0, kernel=poly;, score=0.965 total time=   2.5s\n",
      "[CV 1/5] END .................C=5.0, kernel=rbf;, score=0.967 total time=   3.3s\n",
      "[CV 2/5] END .................C=5.0, kernel=rbf;, score=0.970 total time=   3.5s\n",
      "[CV 3/5] END .................C=5.0, kernel=rbf;, score=0.970 total time=   3.3s\n",
      "[CV 4/5] END .................C=5.0, kernel=rbf;, score=0.970 total time=   3.3s\n",
      "[CV 5/5] END .................C=5.0, kernel=rbf;, score=0.968 total time=   3.3s\n",
      "[CV 1/5] END .............C=5.0, kernel=sigmoid;, score=0.868 total time=   3.7s\n",
      "[CV 2/5] END .............C=5.0, kernel=sigmoid;, score=0.865 total time=   3.4s\n",
      "[CV 3/5] END .............C=5.0, kernel=sigmoid;, score=0.866 total time=   3.4s\n",
      "[CV 4/5] END .............C=5.0, kernel=sigmoid;, score=0.865 total time=   3.5s\n",
      "[CV 5/5] END .............C=5.0, kernel=sigmoid;, score=0.877 total time=   3.5s\n",
      "[CV 1/5] END .............C=10.0, kernel=linear;, score=0.956 total time=   8.8s\n",
      "[CV 2/5] END .............C=10.0, kernel=linear;, score=0.958 total time=   9.1s\n",
      "[CV 3/5] END .............C=10.0, kernel=linear;, score=0.963 total time=   8.5s\n",
      "[CV 4/5] END .............C=10.0, kernel=linear;, score=0.961 total time=   8.8s\n",
      "[CV 5/5] END .............C=10.0, kernel=linear;, score=0.958 total time=  10.3s\n",
      "[CV 1/5] END ...............C=10.0, kernel=poly;, score=0.964 total time=   2.4s\n",
      "[CV 2/5] END ...............C=10.0, kernel=poly;, score=0.970 total time=   2.9s\n",
      "[CV 3/5] END ...............C=10.0, kernel=poly;, score=0.968 total time=   2.7s\n",
      "[CV 4/5] END ...............C=10.0, kernel=poly;, score=0.968 total time=   2.5s\n",
      "[CV 5/5] END ...............C=10.0, kernel=poly;, score=0.964 total time=   2.4s\n",
      "[CV 1/5] END ................C=10.0, kernel=rbf;, score=0.966 total time=   3.2s\n",
      "[CV 2/5] END ................C=10.0, kernel=rbf;, score=0.971 total time=   3.6s\n",
      "[CV 3/5] END ................C=10.0, kernel=rbf;, score=0.970 total time=   3.5s\n",
      "[CV 4/5] END ................C=10.0, kernel=rbf;, score=0.971 total time=   3.4s\n",
      "[CV 5/5] END ................C=10.0, kernel=rbf;, score=0.967 total time=   3.3s\n",
      "[CV 1/5] END ............C=10.0, kernel=sigmoid;, score=0.868 total time=   3.6s\n",
      "[CV 2/5] END ............C=10.0, kernel=sigmoid;, score=0.865 total time=   3.6s\n",
      "[CV 3/5] END ............C=10.0, kernel=sigmoid;, score=0.866 total time=   3.6s\n",
      "[CV 4/5] END ............C=10.0, kernel=sigmoid;, score=0.865 total time=   3.6s\n",
      "[CV 5/5] END ............C=10.0, kernel=sigmoid;, score=0.876 total time=   3.5s\n"
     ]
    },
    {
     "data": {
      "text/plain": [
       "GridSearchCV(estimator=SVC(),\n",
       "             param_grid={'C': [1.0, 2.0, 5.0, 10.0],\n",
       "                         'kernel': ['linear', 'poly', 'rbf', 'sigmoid']},\n",
       "             scoring='accuracy', verbose=3)"
      ]
     },
     "execution_count": 8,
     "metadata": {},
     "output_type": "execute_result"
    }
   ],
   "source": [
    "estimator = SVC()\n",
    "parameters = {'C': [ 1.0, 2.0, 5.0, 10.0],\n",
    "              'kernel': ['linear','poly','rbf','sigmoid']}\n",
    "model = GridSearchCV(estimator, parameters ,scoring='accuracy',verbose=3)\n",
    "model.fit(X_train, y_train)"
   ]
  },
  {
   "cell_type": "code",
   "execution_count": 9,
   "id": "bc76ac78",
   "metadata": {},
   "outputs": [
    {
     "data": {
      "text/plain": [
       "{'C': 5.0, 'kernel': 'rbf'}"
      ]
     },
     "execution_count": 9,
     "metadata": {},
     "output_type": "execute_result"
    }
   ],
   "source": [
    "model.best_params_"
   ]
  },
  {
   "cell_type": "code",
   "execution_count": 10,
   "id": "62c69fe6",
   "metadata": {},
   "outputs": [
    {
     "data": {
      "text/plain": [
       "SVC(C=5.0)"
      ]
     },
     "execution_count": 10,
     "metadata": {},
     "output_type": "execute_result"
    }
   ],
   "source": [
    "model.best_estimator_"
   ]
  },
  {
   "cell_type": "code",
   "execution_count": 11,
   "id": "d9ddc502",
   "metadata": {},
   "outputs": [
    {
     "name": "stdout",
     "output_type": "stream",
     "text": [
      "acc 0.96625\n",
      "recall 0.9597933513027853\n",
      "precision 0.9731268503757686\n",
      "F1 0.9664141128576275\n"
     ]
    },
    {
     "data": {
      "text/html": [
       "<div>\n",
       "<style scoped>\n",
       "    .dataframe tbody tr th:only-of-type {\n",
       "        vertical-align: middle;\n",
       "    }\n",
       "\n",
       "    .dataframe tbody tr th {\n",
       "        vertical-align: top;\n",
       "    }\n",
       "\n",
       "    .dataframe thead th {\n",
       "        text-align: right;\n",
       "    }\n",
       "</style>\n",
       "<table border=\"1\" class=\"dataframe\">\n",
       "  <thead>\n",
       "    <tr style=\"text-align: right;\">\n",
       "      <th></th>\n",
       "      <th>0</th>\n",
       "      <th>1</th>\n",
       "    </tr>\n",
       "  </thead>\n",
       "  <tbody>\n",
       "    <tr>\n",
       "      <th>0</th>\n",
       "      <td>4230</td>\n",
       "      <td>118</td>\n",
       "    </tr>\n",
       "    <tr>\n",
       "      <th>1</th>\n",
       "      <td>179</td>\n",
       "      <td>4273</td>\n",
       "    </tr>\n",
       "  </tbody>\n",
       "</table>\n",
       "</div>"
      ],
      "text/plain": [
       "      0     1\n",
       "0  4230   118\n",
       "1   179  4273"
      ]
     },
     "execution_count": 11,
     "metadata": {},
     "output_type": "execute_result"
    }
   ],
   "source": [
    "yp = model.predict(X_test)\n",
    "print('acc', accuracy_score(y_test, yp))\n",
    "print('recall', recall_score(y_test, yp))\n",
    "print('precision', precision_score(y_test, yp))\n",
    "print('F1', f1_score(y_test, yp))\n",
    "pd.DataFrame(confusion_matrix(y_test,yp))"
   ]
  },
  {
   "cell_type": "code",
   "execution_count": null,
   "id": "54b05c28",
   "metadata": {},
   "outputs": [],
   "source": []
  }
 ],
 "metadata": {
  "kernelspec": {
   "display_name": "Python 3 (ipykernel)",
   "language": "python",
   "name": "python3"
  },
  "language_info": {
   "codemirror_mode": {
    "name": "ipython",
    "version": 3
   },
   "file_extension": ".py",
   "mimetype": "text/x-python",
   "name": "python",
   "nbconvert_exporter": "python",
   "pygments_lexer": "ipython3",
   "version": "3.7.11"
  }
 },
 "nbformat": 4,
 "nbformat_minor": 5
}
