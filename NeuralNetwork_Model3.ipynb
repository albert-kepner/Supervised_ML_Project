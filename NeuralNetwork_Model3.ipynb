{
 "cells": [
  {
   "cell_type": "code",
   "execution_count": 1,
   "id": "e43bd307",
   "metadata": {},
   "outputs": [],
   "source": [
    "import pandas as pd\n",
    "import numpy as np\n",
    "import seaborn as sns\n",
    "import matplotlib.pyplot as plt\n",
    "from sklearn.model_selection import train_test_split\n",
    "from sklearn.metrics import confusion_matrix, accuracy_score, f1_score, precision_score, recall_score\n",
    "from sklearn.metrics import precision_recall_curve\n",
    "from sklearn.metrics import roc_curve, auc\n",
    "from sklearn.metrics import roc_auc_score\n",
    "\n",
    "## Read the training and test data sets previously split and stored as separage csv files\n",
    "## The last column labelled '86' is the 0/1 label indicationg benign/malware for each sample row.\n",
    "\n",
    "df_train = pd.read_csv(\"data/train_data.csv\")\n",
    "df_test = pd.read_csv(\"data/test_data.csv\")\n",
    "\n",
    "last_column = df_train.shape[1] - 1 ## index of the label column\n",
    "X_train = df_train.iloc[:,:last_column]\n",
    "y_train = df_train.iloc[:,last_column]\n",
    "\n",
    "X_test = df_test.iloc[:,:last_column]\n",
    "y_test = df_test.iloc[:,last_column]"
   ]
  },
  {
   "cell_type": "code",
   "execution_count": 2,
   "id": "d7cc9f03",
   "metadata": {},
   "outputs": [],
   "source": [
    "import tensorflow as tf\n",
    "from tensorflow import keras\n",
    "\n"
   ]
  },
  {
   "cell_type": "code",
   "execution_count": 3,
   "id": "4b1a4332",
   "metadata": {},
   "outputs": [
    {
     "data": {
      "text/plain": [
       "(20532, 74)"
      ]
     },
     "execution_count": 3,
     "metadata": {},
     "output_type": "execute_result"
    }
   ],
   "source": [
    "X_train.shape"
   ]
  },
  {
   "cell_type": "code",
   "execution_count": 7,
   "id": "fa514ee3",
   "metadata": {},
   "outputs": [],
   "source": [
    "def create_model(learning_rate=0.00010):\n",
    "    model = keras.models.Sequential()\n",
    "    model.add(keras.Input(shape=(74,)))\n",
    "    model.add(keras.layers.Dense(148,activation='relu'))\n",
    "    model.add(keras.layers.Dropout(0.5))\n",
    "    model.add(keras.layers.Dense(74,activation='relu'))\n",
    "    model.add(keras.layers.Dropout(0.5))\n",
    "    model.add(keras.layers.Dense(37,activation='relu'))\n",
    "    model.add(keras.layers.Dense(1,activation='sigmoid'))\n",
    "    model.summary()\n",
    "    opt = keras.optimizers.Adam(learning_rate=learning_rate)\n",
    "    loss = keras.losses.BinaryCrossentropy()\n",
    "    model.compile(optimizer=opt, loss=loss, metrics=['accuracy'])\n",
    "    return model\n"
   ]
  },
  {
   "cell_type": "code",
   "execution_count": 8,
   "id": "b0b90147",
   "metadata": {},
   "outputs": [
    {
     "name": "stdout",
     "output_type": "stream",
     "text": [
      "Model: \"sequential_1\"\n",
      "_________________________________________________________________\n",
      "Layer (type)                 Output Shape              Param #   \n",
      "=================================================================\n",
      "dense_4 (Dense)              (None, 148)               11100     \n",
      "_________________________________________________________________\n",
      "dropout_2 (Dropout)          (None, 148)               0         \n",
      "_________________________________________________________________\n",
      "dense_5 (Dense)              (None, 74)                11026     \n",
      "_________________________________________________________________\n",
      "dropout_3 (Dropout)          (None, 74)                0         \n",
      "_________________________________________________________________\n",
      "dense_6 (Dense)              (None, 37)                2775      \n",
      "_________________________________________________________________\n",
      "dense_7 (Dense)              (None, 1)                 38        \n",
      "=================================================================\n",
      "Total params: 24,939\n",
      "Trainable params: 24,939\n",
      "Non-trainable params: 0\n",
      "_________________________________________________________________\n",
      "Restoring model weights from the end of the best epoch.\n",
      "Epoch 00067: early stopping\n",
      "275/275 [==============================] - 0s 845us/step - loss: 0.1076 - accuracy: 0.9661\n"
     ]
    },
    {
     "data": {
      "text/plain": [
       "[0.10761028528213501, 0.9661363363265991]"
      ]
     },
     "execution_count": 8,
     "metadata": {},
     "output_type": "execute_result"
    }
   ],
   "source": [
    "model = create_model(learning_rate=0.00010)\n",
    "callback = keras.callbacks.EarlyStopping(monitor='val_loss', patience=9, restore_best_weights=True, verbose=1)\n",
    "model.fit(x=X_train, y=y_train, verbose=0, validation_split=0.2, epochs=200, callbacks=[callback])\n",
    "model.evaluate(x=X_test, y=y_test)"
   ]
  },
  {
   "cell_type": "code",
   "execution_count": 9,
   "id": "f592e73b",
   "metadata": {},
   "outputs": [
    {
     "name": "stdout",
     "output_type": "stream",
     "text": [
      "acc 0.9661363636363637\n",
      "recall 0.958670260557053\n",
      "precision 0.9739844819717024\n",
      "F1 0.9662666968530678\n"
     ]
    },
    {
     "data": {
      "text/html": [
       "<div>\n",
       "<style scoped>\n",
       "    .dataframe tbody tr th:only-of-type {\n",
       "        vertical-align: middle;\n",
       "    }\n",
       "\n",
       "    .dataframe tbody tr th {\n",
       "        vertical-align: top;\n",
       "    }\n",
       "\n",
       "    .dataframe thead th {\n",
       "        text-align: right;\n",
       "    }\n",
       "</style>\n",
       "<table border=\"1\" class=\"dataframe\">\n",
       "  <thead>\n",
       "    <tr style=\"text-align: right;\">\n",
       "      <th></th>\n",
       "      <th>0</th>\n",
       "      <th>1</th>\n",
       "    </tr>\n",
       "  </thead>\n",
       "  <tbody>\n",
       "    <tr>\n",
       "      <th>0</th>\n",
       "      <td>4234</td>\n",
       "      <td>114</td>\n",
       "    </tr>\n",
       "    <tr>\n",
       "      <th>1</th>\n",
       "      <td>184</td>\n",
       "      <td>4268</td>\n",
       "    </tr>\n",
       "  </tbody>\n",
       "</table>\n",
       "</div>"
      ],
      "text/plain": [
       "      0     1\n",
       "0  4234   114\n",
       "1   184  4268"
      ]
     },
     "execution_count": 9,
     "metadata": {},
     "output_type": "execute_result"
    }
   ],
   "source": [
    "yp = model.predict(X_test)\n",
    "yp = yp > 0.5\n",
    "print('acc', accuracy_score(y_test, yp))\n",
    "print('recall', recall_score(y_test, yp))\n",
    "print('precision', precision_score(y_test, yp))\n",
    "print('F1', f1_score(y_test, yp))\n",
    "pd.DataFrame(confusion_matrix(y_test,yp))"
   ]
  },
  {
   "cell_type": "code",
   "execution_count": null,
   "id": "f48a21d3",
   "metadata": {},
   "outputs": [],
   "source": []
  }
 ],
 "metadata": {
  "kernelspec": {
   "display_name": "Python 3 (ipykernel)",
   "language": "python",
   "name": "python3"
  },
  "language_info": {
   "codemirror_mode": {
    "name": "ipython",
    "version": 3
   },
   "file_extension": ".py",
   "mimetype": "text/x-python",
   "name": "python",
   "nbconvert_exporter": "python",
   "pygments_lexer": "ipython3",
   "version": "3.7.11"
  }
 },
 "nbformat": 4,
 "nbformat_minor": 5
}
