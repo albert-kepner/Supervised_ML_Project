{
 "cells": [
  {
   "cell_type": "code",
   "execution_count": 3,
   "id": "26c7c564",
   "metadata": {},
   "outputs": [],
   "source": [
    "import pandas as pd\n",
    "import numpy as np\n",
    "import seaborn as sns\n",
    "import matplotlib.pyplot as plt\n",
    "from sklearn.model_selection import train_test_split\n",
    "from sklearn.metrics import confusion_matrix, accuracy_score, f1_score, precision_score, recall_score\n",
    "from sklearn.metrics import precision_recall_curve\n",
    "from sklearn.metrics import roc_curve, auc\n",
    "from sklearn.metrics import roc_auc_score\n",
    "\n",
    "## Read the training and test data sets previously split and stored as separage csv files\n",
    "## The last column labelled '86' is the 0/1 label indicationg benign/malware for each sample row.\n",
    "\n",
    "df_train = pd.read_csv(\"data/train_data.csv\")\n",
    "df_test = pd.read_csv(\"data/test_data.csv\")\n",
    "\n",
    "last_column = df_train.shape[1] - 1 ## index of the label column\n",
    "X_train = df_train.iloc[:,:last_column]\n",
    "y_train = df_train.iloc[:,last_column]\n",
    "\n",
    "X_test = df_test.iloc[:,:last_column]\n",
    "y_test = df_test.iloc[:,last_column]"
   ]
  },
  {
   "cell_type": "code",
   "execution_count": 4,
   "id": "fd249785",
   "metadata": {},
   "outputs": [],
   "source": [
    "from sklearn.model_selection import GridSearchCV\n",
    "from sklearn.ensemble import AdaBoostClassifier"
   ]
  },
  {
   "cell_type": "code",
   "execution_count": 9,
   "id": "d3cfe0e0",
   "metadata": {},
   "outputs": [
    {
     "name": "stdout",
     "output_type": "stream",
     "text": [
      "Fitting 5 folds for each of 12 candidates, totalling 60 fits\n",
      "[CV 1/5] END learning_rate=0.85, n_estimators=50;, score=0.958 total time=   0.7s\n",
      "[CV 2/5] END learning_rate=0.85, n_estimators=50;, score=0.955 total time=   0.7s\n",
      "[CV 3/5] END learning_rate=0.85, n_estimators=50;, score=0.960 total time=   0.7s\n",
      "[CV 4/5] END learning_rate=0.85, n_estimators=50;, score=0.963 total time=   0.7s\n",
      "[CV 5/5] END learning_rate=0.85, n_estimators=50;, score=0.959 total time=   0.7s\n",
      "[CV 1/5] END learning_rate=0.85, n_estimators=75;, score=0.957 total time=   1.1s\n",
      "[CV 2/5] END learning_rate=0.85, n_estimators=75;, score=0.957 total time=   1.2s\n",
      "[CV 3/5] END learning_rate=0.85, n_estimators=75;, score=0.960 total time=   1.1s\n",
      "[CV 4/5] END learning_rate=0.85, n_estimators=75;, score=0.963 total time=   1.1s\n",
      "[CV 5/5] END learning_rate=0.85, n_estimators=75;, score=0.961 total time=   1.1s\n",
      "[CV 1/5] END learning_rate=0.85, n_estimators=90;, score=0.957 total time=   1.4s\n",
      "[CV 2/5] END learning_rate=0.85, n_estimators=90;, score=0.957 total time=   1.3s\n",
      "[CV 3/5] END learning_rate=0.85, n_estimators=90;, score=0.961 total time=   1.4s\n",
      "[CV 4/5] END learning_rate=0.85, n_estimators=90;, score=0.963 total time=   1.3s\n",
      "[CV 5/5] END learning_rate=0.85, n_estimators=90;, score=0.960 total time=   1.3s\n",
      "[CV 1/5] END learning_rate=0.75, n_estimators=50;, score=0.957 total time=   0.7s\n",
      "[CV 2/5] END learning_rate=0.75, n_estimators=50;, score=0.956 total time=   0.7s\n",
      "[CV 3/5] END learning_rate=0.75, n_estimators=50;, score=0.961 total time=   0.7s\n",
      "[CV 4/5] END learning_rate=0.75, n_estimators=50;, score=0.961 total time=   0.7s\n",
      "[CV 5/5] END learning_rate=0.75, n_estimators=50;, score=0.960 total time=   0.7s\n",
      "[CV 1/5] END learning_rate=0.75, n_estimators=75;, score=0.957 total time=   1.1s\n",
      "[CV 2/5] END learning_rate=0.75, n_estimators=75;, score=0.957 total time=   1.1s\n",
      "[CV 3/5] END learning_rate=0.75, n_estimators=75;, score=0.962 total time=   1.1s\n",
      "[CV 4/5] END learning_rate=0.75, n_estimators=75;, score=0.962 total time=   1.1s\n",
      "[CV 5/5] END learning_rate=0.75, n_estimators=75;, score=0.960 total time=   1.1s\n",
      "[CV 1/5] END learning_rate=0.75, n_estimators=90;, score=0.958 total time=   1.4s\n",
      "[CV 2/5] END learning_rate=0.75, n_estimators=90;, score=0.956 total time=   1.5s\n",
      "[CV 3/5] END learning_rate=0.75, n_estimators=90;, score=0.961 total time=   1.4s\n",
      "[CV 4/5] END learning_rate=0.75, n_estimators=90;, score=0.962 total time=   1.4s\n",
      "[CV 5/5] END learning_rate=0.75, n_estimators=90;, score=0.961 total time=   1.4s\n",
      "[CV 1/5] END learning_rate=0.65, n_estimators=50;, score=0.955 total time=   0.8s\n",
      "[CV 2/5] END learning_rate=0.65, n_estimators=50;, score=0.956 total time=   0.7s\n",
      "[CV 3/5] END learning_rate=0.65, n_estimators=50;, score=0.962 total time=   0.7s\n",
      "[CV 4/5] END learning_rate=0.65, n_estimators=50;, score=0.962 total time=   0.8s\n",
      "[CV 5/5] END learning_rate=0.65, n_estimators=50;, score=0.957 total time=   0.8s\n",
      "[CV 1/5] END learning_rate=0.65, n_estimators=75;, score=0.958 total time=   1.2s\n",
      "[CV 2/5] END learning_rate=0.65, n_estimators=75;, score=0.958 total time=   1.1s\n",
      "[CV 3/5] END learning_rate=0.65, n_estimators=75;, score=0.960 total time=   1.1s\n",
      "[CV 4/5] END learning_rate=0.65, n_estimators=75;, score=0.963 total time=   1.1s\n",
      "[CV 5/5] END learning_rate=0.65, n_estimators=75;, score=0.960 total time=   1.2s\n",
      "[CV 1/5] END learning_rate=0.65, n_estimators=90;, score=0.959 total time=   1.4s\n",
      "[CV 2/5] END learning_rate=0.65, n_estimators=90;, score=0.957 total time=   1.4s\n",
      "[CV 3/5] END learning_rate=0.65, n_estimators=90;, score=0.963 total time=   1.4s\n",
      "[CV 4/5] END learning_rate=0.65, n_estimators=90;, score=0.964 total time=   1.4s\n",
      "[CV 5/5] END learning_rate=0.65, n_estimators=90;, score=0.961 total time=   1.4s\n",
      "[CV 1/5] END learning_rate=0.5, n_estimators=50;, score=0.953 total time=   0.8s\n",
      "[CV 2/5] END learning_rate=0.5, n_estimators=50;, score=0.953 total time=   0.7s\n",
      "[CV 3/5] END learning_rate=0.5, n_estimators=50;, score=0.959 total time=   0.7s\n",
      "[CV 4/5] END learning_rate=0.5, n_estimators=50;, score=0.959 total time=   0.7s\n",
      "[CV 5/5] END learning_rate=0.5, n_estimators=50;, score=0.953 total time=   0.8s\n",
      "[CV 1/5] END learning_rate=0.5, n_estimators=75;, score=0.958 total time=   1.2s\n",
      "[CV 2/5] END learning_rate=0.5, n_estimators=75;, score=0.955 total time=   1.1s\n",
      "[CV 3/5] END learning_rate=0.5, n_estimators=75;, score=0.961 total time=   1.2s\n",
      "[CV 4/5] END learning_rate=0.5, n_estimators=75;, score=0.961 total time=   1.2s\n",
      "[CV 5/5] END learning_rate=0.5, n_estimators=75;, score=0.957 total time=   1.1s\n",
      "[CV 1/5] END learning_rate=0.5, n_estimators=90;, score=0.958 total time=   1.4s\n",
      "[CV 2/5] END learning_rate=0.5, n_estimators=90;, score=0.955 total time=   1.4s\n",
      "[CV 3/5] END learning_rate=0.5, n_estimators=90;, score=0.963 total time=   1.4s\n",
      "[CV 4/5] END learning_rate=0.5, n_estimators=90;, score=0.962 total time=   1.4s\n",
      "[CV 5/5] END learning_rate=0.5, n_estimators=90;, score=0.958 total time=   1.4s\n"
     ]
    },
    {
     "data": {
      "text/plain": [
       "GridSearchCV(estimator=AdaBoostClassifier(),\n",
       "             param_grid={'learning_rate': [0.85, 0.75, 0.65, 0.5],\n",
       "                         'n_estimators': [50, 75, 90]},\n",
       "             scoring='accuracy', verbose=3)"
      ]
     },
     "execution_count": 9,
     "metadata": {},
     "output_type": "execute_result"
    }
   ],
   "source": [
    "estimator = AdaBoostClassifier()\n",
    "parameters = {'learning_rate': [0.85, 0.75, 0.65, 0.50], 'n_estimators': [50, 75, 90]}\n",
    "model = GridSearchCV(estimator, parameters ,scoring='accuracy',verbose=3)\n",
    "model.fit(X_train, y_train)"
   ]
  },
  {
   "cell_type": "code",
   "execution_count": 10,
   "id": "b9d2c1e3",
   "metadata": {},
   "outputs": [
    {
     "data": {
      "text/plain": [
       "{'learning_rate': 0.65, 'n_estimators': 90}"
      ]
     },
     "execution_count": 10,
     "metadata": {},
     "output_type": "execute_result"
    }
   ],
   "source": [
    "model.best_params_"
   ]
  },
  {
   "cell_type": "code",
   "execution_count": 11,
   "id": "c92519a9",
   "metadata": {},
   "outputs": [
    {
     "data": {
      "text/plain": [
       "AdaBoostClassifier(learning_rate=0.65, n_estimators=90)"
      ]
     },
     "execution_count": 11,
     "metadata": {},
     "output_type": "execute_result"
    }
   ],
   "source": [
    "model.best_estimator_"
   ]
  },
  {
   "cell_type": "code",
   "execution_count": 12,
   "id": "5cffbdad",
   "metadata": {},
   "outputs": [
    {
     "name": "stdout",
     "output_type": "stream",
     "text": [
      "acc 0.9560227272727273\n",
      "recall 0.9609164420485176\n",
      "precision 0.9525718102872411\n",
      "F1 0.9567259308956726\n"
     ]
    },
    {
     "data": {
      "text/html": [
       "<div>\n",
       "<style scoped>\n",
       "    .dataframe tbody tr th:only-of-type {\n",
       "        vertical-align: middle;\n",
       "    }\n",
       "\n",
       "    .dataframe tbody tr th {\n",
       "        vertical-align: top;\n",
       "    }\n",
       "\n",
       "    .dataframe thead th {\n",
       "        text-align: right;\n",
       "    }\n",
       "</style>\n",
       "<table border=\"1\" class=\"dataframe\">\n",
       "  <thead>\n",
       "    <tr style=\"text-align: right;\">\n",
       "      <th></th>\n",
       "      <th>0</th>\n",
       "      <th>1</th>\n",
       "    </tr>\n",
       "  </thead>\n",
       "  <tbody>\n",
       "    <tr>\n",
       "      <th>0</th>\n",
       "      <td>4135</td>\n",
       "      <td>213</td>\n",
       "    </tr>\n",
       "    <tr>\n",
       "      <th>1</th>\n",
       "      <td>174</td>\n",
       "      <td>4278</td>\n",
       "    </tr>\n",
       "  </tbody>\n",
       "</table>\n",
       "</div>"
      ],
      "text/plain": [
       "      0     1\n",
       "0  4135   213\n",
       "1   174  4278"
      ]
     },
     "execution_count": 12,
     "metadata": {},
     "output_type": "execute_result"
    }
   ],
   "source": [
    "yp = model.predict(X_test)\n",
    "print('acc', accuracy_score(y_test, yp))\n",
    "print('recall', recall_score(y_test, yp))\n",
    "print('precision', precision_score(y_test, yp))\n",
    "print('F1', f1_score(y_test, yp))\n",
    "pd.DataFrame(confusion_matrix(y_test,yp))"
   ]
  },
  {
   "cell_type": "code",
   "execution_count": null,
   "id": "05edc172",
   "metadata": {},
   "outputs": [],
   "source": []
  }
 ],
 "metadata": {
  "kernelspec": {
   "display_name": "Python 3 (ipykernel)",
   "language": "python",
   "name": "python3"
  },
  "language_info": {
   "codemirror_mode": {
    "name": "ipython",
    "version": 3
   },
   "file_extension": ".py",
   "mimetype": "text/x-python",
   "name": "python",
   "nbconvert_exporter": "python",
   "pygments_lexer": "ipython3",
   "version": "3.7.11"
  }
 },
 "nbformat": 4,
 "nbformat_minor": 5
}
