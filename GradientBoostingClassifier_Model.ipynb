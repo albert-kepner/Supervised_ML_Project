{
 "cells": [
  {
   "cell_type": "code",
   "execution_count": 1,
   "id": "41686c6e",
   "metadata": {},
   "outputs": [],
   "source": [
    "import pandas as pd\n",
    "import numpy as np\n",
    "import seaborn as sns\n",
    "import matplotlib.pyplot as plt\n",
    "from sklearn.model_selection import train_test_split\n",
    "from sklearn.metrics import confusion_matrix, accuracy_score, f1_score, precision_score, recall_score\n",
    "from sklearn.metrics import precision_recall_curve\n",
    "from sklearn.metrics import roc_curve, auc\n",
    "from sklearn.metrics import roc_auc_score\n",
    "\n",
    "## Read the training and test data sets previously split and stored as separage csv files\n",
    "## The last column labelled '86' is the 0/1 label indicationg benign/malware for each sample row.\n",
    "\n",
    "df_train = pd.read_csv(\"data/train_data.csv\")\n",
    "df_test = pd.read_csv(\"data/test_data.csv\")\n",
    "\n",
    "last_column = df_train.shape[1] - 1 ## index of the label column\n",
    "X_train = df_train.iloc[:,:last_column]\n",
    "y_train = df_train.iloc[:,last_column]\n",
    "\n",
    "X_test = df_test.iloc[:,:last_column]\n",
    "y_test = df_test.iloc[:,last_column]"
   ]
  },
  {
   "cell_type": "code",
   "execution_count": 2,
   "id": "5b6b8ec5",
   "metadata": {},
   "outputs": [],
   "source": [
    "from sklearn.model_selection import GridSearchCV\n",
    "from sklearn.ensemble import GradientBoostingClassifier"
   ]
  },
  {
   "cell_type": "code",
   "execution_count": 3,
   "id": "94015d68",
   "metadata": {},
   "outputs": [
    {
     "name": "stdout",
     "output_type": "stream",
     "text": [
      "Fitting 5 folds for each of 12 candidates, totalling 60 fits\n",
      "[CV 1/5] END learning_rate=0.05, n_estimators=100;, score=0.957 total time=   2.0s\n",
      "[CV 2/5] END learning_rate=0.05, n_estimators=100;, score=0.958 total time=   2.0s\n",
      "[CV 3/5] END learning_rate=0.05, n_estimators=100;, score=0.960 total time=   2.0s\n",
      "[CV 4/5] END learning_rate=0.05, n_estimators=100;, score=0.962 total time=   2.0s\n",
      "[CV 5/5] END learning_rate=0.05, n_estimators=100;, score=0.956 total time=   2.0s\n",
      "[CV 1/5] END learning_rate=0.05, n_estimators=150;, score=0.959 total time=   3.0s\n",
      "[CV 2/5] END learning_rate=0.05, n_estimators=150;, score=0.960 total time=   3.1s\n",
      "[CV 3/5] END learning_rate=0.05, n_estimators=150;, score=0.963 total time=   3.0s\n",
      "[CV 4/5] END learning_rate=0.05, n_estimators=150;, score=0.963 total time=   3.0s\n",
      "[CV 5/5] END learning_rate=0.05, n_estimators=150;, score=0.959 total time=   3.0s\n",
      "[CV 1/5] END learning_rate=0.05, n_estimators=200;, score=0.960 total time=   4.0s\n",
      "[CV 2/5] END learning_rate=0.05, n_estimators=200;, score=0.963 total time=   4.2s\n",
      "[CV 3/5] END learning_rate=0.05, n_estimators=200;, score=0.964 total time=   4.2s\n",
      "[CV 4/5] END learning_rate=0.05, n_estimators=200;, score=0.965 total time=   4.0s\n",
      "[CV 5/5] END learning_rate=0.05, n_estimators=200;, score=0.960 total time=   4.1s\n",
      "[CV 1/5] END learning_rate=0.075, n_estimators=100;, score=0.959 total time=   2.0s\n",
      "[CV 2/5] END learning_rate=0.075, n_estimators=100;, score=0.960 total time=   2.0s\n",
      "[CV 3/5] END learning_rate=0.075, n_estimators=100;, score=0.962 total time=   2.0s\n",
      "[CV 4/5] END learning_rate=0.075, n_estimators=100;, score=0.964 total time=   2.0s\n",
      "[CV 5/5] END learning_rate=0.075, n_estimators=100;, score=0.959 total time=   2.0s\n",
      "[CV 1/5] END learning_rate=0.075, n_estimators=150;, score=0.961 total time=   3.0s\n",
      "[CV 2/5] END learning_rate=0.075, n_estimators=150;, score=0.964 total time=   3.0s\n",
      "[CV 3/5] END learning_rate=0.075, n_estimators=150;, score=0.965 total time=   3.0s\n",
      "[CV 4/5] END learning_rate=0.075, n_estimators=150;, score=0.966 total time=   3.0s\n",
      "[CV 5/5] END learning_rate=0.075, n_estimators=150;, score=0.960 total time=   3.0s\n",
      "[CV 1/5] END learning_rate=0.075, n_estimators=200;, score=0.963 total time=   4.0s\n",
      "[CV 2/5] END learning_rate=0.075, n_estimators=200;, score=0.965 total time=   4.1s\n",
      "[CV 3/5] END learning_rate=0.075, n_estimators=200;, score=0.968 total time=   4.0s\n",
      "[CV 4/5] END learning_rate=0.075, n_estimators=200;, score=0.966 total time=   4.0s\n",
      "[CV 5/5] END learning_rate=0.075, n_estimators=200;, score=0.961 total time=   4.0s\n",
      "[CV 1/5] END learning_rate=0.1, n_estimators=100;, score=0.959 total time=   2.0s\n",
      "[CV 2/5] END learning_rate=0.1, n_estimators=100;, score=0.963 total time=   2.0s\n",
      "[CV 3/5] END learning_rate=0.1, n_estimators=100;, score=0.964 total time=   2.0s\n",
      "[CV 4/5] END learning_rate=0.1, n_estimators=100;, score=0.964 total time=   2.0s\n",
      "[CV 5/5] END learning_rate=0.1, n_estimators=100;, score=0.959 total time=   2.1s\n",
      "[CV 1/5] END learning_rate=0.1, n_estimators=150;, score=0.962 total time=   3.0s\n",
      "[CV 2/5] END learning_rate=0.1, n_estimators=150;, score=0.966 total time=   3.1s\n",
      "[CV 3/5] END learning_rate=0.1, n_estimators=150;, score=0.966 total time=   3.1s\n",
      "[CV 4/5] END learning_rate=0.1, n_estimators=150;, score=0.965 total time=   3.0s\n",
      "[CV 5/5] END learning_rate=0.1, n_estimators=150;, score=0.961 total time=   3.0s\n",
      "[CV 1/5] END learning_rate=0.1, n_estimators=200;, score=0.963 total time=   4.0s\n",
      "[CV 2/5] END learning_rate=0.1, n_estimators=200;, score=0.967 total time=   4.1s\n",
      "[CV 3/5] END learning_rate=0.1, n_estimators=200;, score=0.968 total time=   4.0s\n",
      "[CV 4/5] END learning_rate=0.1, n_estimators=200;, score=0.966 total time=   4.1s\n",
      "[CV 5/5] END learning_rate=0.1, n_estimators=200;, score=0.962 total time=   4.1s\n",
      "[CV 1/5] END learning_rate=0.15, n_estimators=100;, score=0.963 total time=   2.0s\n",
      "[CV 2/5] END learning_rate=0.15, n_estimators=100;, score=0.965 total time=   2.0s\n",
      "[CV 3/5] END learning_rate=0.15, n_estimators=100;, score=0.968 total time=   2.0s\n",
      "[CV 4/5] END learning_rate=0.15, n_estimators=100;, score=0.966 total time=   2.0s\n",
      "[CV 5/5] END learning_rate=0.15, n_estimators=100;, score=0.962 total time=   2.0s\n",
      "[CV 1/5] END learning_rate=0.15, n_estimators=150;, score=0.964 total time=   3.0s\n",
      "[CV 2/5] END learning_rate=0.15, n_estimators=150;, score=0.967 total time=   3.1s\n",
      "[CV 3/5] END learning_rate=0.15, n_estimators=150;, score=0.969 total time=   3.1s\n",
      "[CV 4/5] END learning_rate=0.15, n_estimators=150;, score=0.967 total time=   3.0s\n",
      "[CV 5/5] END learning_rate=0.15, n_estimators=150;, score=0.963 total time=   3.1s\n",
      "[CV 1/5] END learning_rate=0.15, n_estimators=200;, score=0.967 total time=   4.1s\n",
      "[CV 2/5] END learning_rate=0.15, n_estimators=200;, score=0.969 total time=   4.0s\n",
      "[CV 3/5] END learning_rate=0.15, n_estimators=200;, score=0.970 total time=   4.1s\n",
      "[CV 4/5] END learning_rate=0.15, n_estimators=200;, score=0.967 total time=   4.1s\n",
      "[CV 5/5] END learning_rate=0.15, n_estimators=200;, score=0.964 total time=   4.0s\n"
     ]
    },
    {
     "data": {
      "text/plain": [
       "GridSearchCV(estimator=GradientBoostingClassifier(),\n",
       "             param_grid={'learning_rate': [0.05, 0.075, 0.1, 0.15],\n",
       "                         'n_estimators': [100, 150, 200]},\n",
       "             scoring='accuracy', verbose=3)"
      ]
     },
     "execution_count": 3,
     "metadata": {},
     "output_type": "execute_result"
    }
   ],
   "source": [
    "estimator = GradientBoostingClassifier()\n",
    "parameters = {'learning_rate': [0.05, 0.075, 0.10, 0.15], 'n_estimators': [100, 150, 200]}\n",
    "model = GridSearchCV(estimator, parameters ,scoring='accuracy',verbose=3)\n",
    "model.fit(X_train, y_train)"
   ]
  },
  {
   "cell_type": "code",
   "execution_count": 5,
   "id": "4235017b",
   "metadata": {},
   "outputs": [
    {
     "data": {
      "text/plain": [
       "{'learning_rate': 0.15, 'n_estimators': 200}"
      ]
     },
     "execution_count": 5,
     "metadata": {},
     "output_type": "execute_result"
    }
   ],
   "source": [
    "model.best_params_"
   ]
  },
  {
   "cell_type": "code",
   "execution_count": 6,
   "id": "1eb651f2",
   "metadata": {},
   "outputs": [
    {
     "data": {
      "text/plain": [
       "GradientBoostingClassifier(learning_rate=0.15, n_estimators=200)"
      ]
     },
     "execution_count": 6,
     "metadata": {},
     "output_type": "execute_result"
    }
   ],
   "source": [
    "model.best_estimator_"
   ]
  },
  {
   "cell_type": "code",
   "execution_count": 7,
   "id": "28874104",
   "metadata": {},
   "outputs": [
    {
     "name": "stdout",
     "output_type": "stream",
     "text": [
      "acc 0.9623863636363637\n",
      "recall 0.963162623539982\n",
      "precision 0.9625140291806958\n",
      "F1 0.9628382171325923\n"
     ]
    },
    {
     "data": {
      "text/html": [
       "<div>\n",
       "<style scoped>\n",
       "    .dataframe tbody tr th:only-of-type {\n",
       "        vertical-align: middle;\n",
       "    }\n",
       "\n",
       "    .dataframe tbody tr th {\n",
       "        vertical-align: top;\n",
       "    }\n",
       "\n",
       "    .dataframe thead th {\n",
       "        text-align: right;\n",
       "    }\n",
       "</style>\n",
       "<table border=\"1\" class=\"dataframe\">\n",
       "  <thead>\n",
       "    <tr style=\"text-align: right;\">\n",
       "      <th></th>\n",
       "      <th>0</th>\n",
       "      <th>1</th>\n",
       "    </tr>\n",
       "  </thead>\n",
       "  <tbody>\n",
       "    <tr>\n",
       "      <th>0</th>\n",
       "      <td>4181</td>\n",
       "      <td>167</td>\n",
       "    </tr>\n",
       "    <tr>\n",
       "      <th>1</th>\n",
       "      <td>164</td>\n",
       "      <td>4288</td>\n",
       "    </tr>\n",
       "  </tbody>\n",
       "</table>\n",
       "</div>"
      ],
      "text/plain": [
       "      0     1\n",
       "0  4181   167\n",
       "1   164  4288"
      ]
     },
     "execution_count": 7,
     "metadata": {},
     "output_type": "execute_result"
    }
   ],
   "source": [
    "yp = model.predict(X_test)\n",
    "print('acc', accuracy_score(y_test, yp))\n",
    "print('recall', recall_score(y_test, yp))\n",
    "print('precision', precision_score(y_test, yp))\n",
    "print('F1', f1_score(y_test, yp))\n",
    "pd.DataFrame(confusion_matrix(y_test,yp))"
   ]
  },
  {
   "cell_type": "code",
   "execution_count": null,
   "id": "1f61d397",
   "metadata": {},
   "outputs": [],
   "source": []
  }
 ],
 "metadata": {
  "kernelspec": {
   "display_name": "Python 3 (ipykernel)",
   "language": "python",
   "name": "python3"
  },
  "language_info": {
   "codemirror_mode": {
    "name": "ipython",
    "version": 3
   },
   "file_extension": ".py",
   "mimetype": "text/x-python",
   "name": "python",
   "nbconvert_exporter": "python",
   "pygments_lexer": "ipython3",
   "version": "3.7.11"
  }
 },
 "nbformat": 4,
 "nbformat_minor": 5
}
