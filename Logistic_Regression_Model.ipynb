{
 "cells": [
  {
   "cell_type": "code",
   "execution_count": 20,
   "id": "f6b78da6",
   "metadata": {},
   "outputs": [
    {
     "name": "stdout",
     "output_type": "stream",
     "text": [
      "(20532, 76)\n",
      "(8800, 76)\n"
     ]
    }
   ],
   "source": [
    "import pandas as pd\n",
    "import numpy as np\n",
    "import seaborn as sns\n",
    "import matplotlib.pyplot as plt\n",
    "\n",
    "## Read the training and test data sets previously split and stored as separage csv files\n",
    "## The last column labelled '86' is the 0/1 label indicationg benign/malware for each sample row.\n",
    "df_train = pd.read_csv(\"data/train_data.csv\")\n",
    "df_test = pd.read_csv(\"data/test_data.csv\")\n",
    "print(df_train.shape)\n",
    "print(df_test.shape)\n",
    "num_columns = df_train.shape[1]\n",
    "X_train = df_train.iloc[:,:num_columns-1]\n",
    "y_train = df_train.iloc[:,num_columns-1]\n",
    "X_test = df_test.iloc[:,:num_columns-1]\n",
    "y_test = df_test.iloc[:,num_columns-1]\n"
   ]
  },
  {
   "cell_type": "code",
   "execution_count": 3,
   "id": "b0a49ff3",
   "metadata": {},
   "outputs": [],
   "source": [
    "from sklearn.linear_model import LogisticRegression\n",
    "\n",
    "model = LogisticRegression ( tol=0.0001, C=1.0 )\n",
    "?model"
   ]
  },
  {
   "cell_type": "code",
   "execution_count": 16,
   "id": "22823944",
   "metadata": {},
   "outputs": [],
   "source": [
    "def trainLR_Model(C=1.0):\n",
    "    model = LogisticRegression ( tol=0.0001, C=C, max_iter=1000 )\n",
    "    model.fit(X_train, y_train)\n",
    "    return model"
   ]
  },
  {
   "cell_type": "code",
   "execution_count": 19,
   "id": "7b623d8b",
   "metadata": {},
   "outputs": [
    {
     "name": "stdout",
     "output_type": "stream",
     "text": [
      "model.score = 0.9986363636363637 for C = 5.0\n",
      "model.score = 0.9988636363636364 for C = 1.0\n",
      "model.score = 1.0 for C = 0.3\n",
      "model.score = 0.9902272727272727 for C = 0.1\n"
     ]
    }
   ],
   "source": [
    "C = 5.0\n",
    "model = trainLR_Model(C=C)\n",
    "print(f'model.score = {model.score(X_test,y_test)} for C = {C}')\n",
    "C = 1.0\n",
    "model = trainLR_Model(C=C)\n",
    "print(f'model.score = {model.score(X_test,y_test)} for C = {C}')\n",
    "C = 0.3\n",
    "model = trainLR_Model(C=C)\n",
    "print(f'model.score = {model.score(X_test,y_test)} for C = {C}')\n",
    "C = 0.1\n",
    "model = trainLR_Model(C=C)\n",
    "print(f'model.score = {model.score(X_test,y_test)} for C = {C}')"
   ]
  },
  {
   "cell_type": "code",
   "execution_count": 22,
   "id": "a16751cd",
   "metadata": {},
   "outputs": [
    {
     "name": "stdout",
     "output_type": "stream",
     "text": [
      "train.score = 0.9992694330800701 for C = 5.0\n",
      "test.score = 0.9986363636363637 for C = 5.0\n",
      "train.score = 0.9994642509253847 for C = 1.0\n",
      "test.score = 0.9988636363636364 for C = 1.0\n",
      "train.score = 0.9999025910773427 for C = 0.3\n",
      "test.score = 1.0 for C = 0.3\n",
      "train.score = 0.992889148646016 for C = 0.1\n",
      "test.score = 0.9902272727272727 for C = 0.1\n"
     ]
    }
   ],
   "source": [
    "C = 5.0\n",
    "model = trainLR_Model(C=C)\n",
    "print(f'train.score = {model.score(X_train,y_train)} for C = {C}')\n",
    "print(f'test.score = {model.score(X_test,y_test)} for C = {C}')\n",
    "C = 1.0\n",
    "model = trainLR_Model(C=C)\n",
    "print(f'train.score = {model.score(X_train,y_train)} for C = {C}')\n",
    "print(f'test.score = {model.score(X_test,y_test)} for C = {C}')\n",
    "C = 0.3\n",
    "model = trainLR_Model(C=C)\n",
    "print(f'train.score = {model.score(X_train,y_train)} for C = {C}')\n",
    "print(f'test.score = {model.score(X_test,y_test)} for C = {C}')\n",
    "C = 0.1\n",
    "model = trainLR_Model(C=C)\n",
    "print(f'train.score = {model.score(X_train,y_train)} for C = {C}')\n",
    "print(f'test.score = {model.score(X_test,y_test)} for C = {C}')\n"
   ]
  },
  {
   "cell_type": "code",
   "execution_count": null,
   "id": "476a50b8",
   "metadata": {},
   "outputs": [],
   "source": []
  }
 ],
 "metadata": {
  "kernelspec": {
   "display_name": "Python 3 (ipykernel)",
   "language": "python",
   "name": "python3"
  },
  "language_info": {
   "codemirror_mode": {
    "name": "ipython",
    "version": 3
   },
   "file_extension": ".py",
   "mimetype": "text/x-python",
   "name": "python",
   "nbconvert_exporter": "python",
   "pygments_lexer": "ipython3",
   "version": "3.7.11"
  }
 },
 "nbformat": 4,
 "nbformat_minor": 5
}
