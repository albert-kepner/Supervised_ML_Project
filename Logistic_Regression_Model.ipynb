{
 "cells": [
  {
   "cell_type": "code",
   "execution_count": 46,
   "id": "2d7c6b1e",
   "metadata": {},
   "outputs": [],
   "source": [
    "import pandas as pd\n",
    "import numpy as np\n",
    "import seaborn as sns\n",
    "import matplotlib.pyplot as plt\n",
    "from sklearn.model_selection import train_test_split\n",
    "from sklearn.metrics import confusion_matrix, accuracy_score, f1_score, precision_score, recall_score\n",
    "from sklearn.metrics import precision_recall_curve\n",
    "from sklearn.metrics import roc_curve, auc\n",
    "from sklearn.metrics import roc_auc_score\n",
    "\n",
    "## Read the training and test data sets previously split and stored as separage csv files\n",
    "## The last column labelled '86' is the 0/1 label indicationg benign/malware for each sample row.\n",
    "\n",
    "## We will split the training data into a set for actual training and a validation set.\n",
    "## That way we can tune the model before doing a final evaluation with the test data set.\n",
    "df_train_and_valid = pd.read_csv(\"data/train_data.csv\")\n",
    "df_test = pd.read_csv(\"data/test_data.csv\")\n",
    "\n",
    "df_train, df_valid = train_test_split(df_train_and_valid, test_size = 0.25, random_state=47)\n",
    "num_columns = df_train.shape[1]\n",
    "X_train = df_train.iloc[:,:num_columns-1]\n",
    "y_train = df_train.iloc[:,num_columns-1]\n",
    "X_valid = df_valid.iloc[:,:num_columns-1]\n",
    "y_valid = df_valid.iloc[:,num_columns-1]\n",
    "X_test = df_test.iloc[:,:num_columns-1]\n",
    "y_test = df_test.iloc[:,num_columns-1]\n"
   ]
  },
  {
   "cell_type": "code",
   "execution_count": 33,
   "id": "3d391fd2",
   "metadata": {},
   "outputs": [],
   "source": [
    "def trainLR_Model(C=1.0):\n",
    "    model = LogisticRegression ( tol=0.0001, C=C, max_iter=5000 )\n",
    "    model.fit(X_train, y_train)\n",
    "    return model"
   ]
  },
  {
   "cell_type": "code",
   "execution_count": null,
   "id": "20652c8e",
   "metadata": {},
   "outputs": [],
   "source": []
  },
  {
   "cell_type": "code",
   "execution_count": 35,
   "id": "69e6a7ef",
   "metadata": {},
   "outputs": [
    {
     "name": "stdout",
     "output_type": "stream",
     "text": [
      "train.score = 0.9996753035911423 for C = 10.0\n",
      "valid.score = 0.9994155464640561 for C = 10.0\n",
      "\n",
      "\n",
      "train.score = 0.9993506071822845 for C = 5.0\n",
      "valid.score = 0.9988310929281122 for C = 5.0\n",
      "\n",
      "\n",
      "train.score = 0.9994804857458276 for C = 1.0\n",
      "valid.score = 0.9996103643093708 for C = 1.0\n",
      "\n",
      "\n",
      "train.score = 0.9920774076238716 for C = 0.3\n",
      "valid.score = 0.9924021040327294 for C = 0.3\n",
      "\n",
      "\n",
      "train.score = 0.9864276901097474 for C = 0.1\n",
      "valid.score = 0.9881161114358075 for C = 0.1\n",
      "\n",
      "\n"
     ]
    }
   ],
   "source": [
    "C = 10.0\n",
    "model = trainLR_Model(C=C)\n",
    "print(f'train.score = {model.score(X_train,y_train)} for C = {C}')\n",
    "print(f'valid.score = {model.score(X_valid,y_valid)} for C = {C}')\n",
    "print(\"\\n\")\n",
    "C = 5.0\n",
    "model = trainLR_Model(C=C)\n",
    "print(f'train.score = {model.score(X_train,y_train)} for C = {C}')\n",
    "print(f'valid.score = {model.score(X_valid,y_valid)} for C = {C}')\n",
    "print(\"\\n\")\n",
    "C = 1.0\n",
    "model = trainLR_Model(C=C)\n",
    "print(f'train.score = {model.score(X_train,y_train)} for C = {C}')\n",
    "print(f'valid.score = {model.score(X_valid,y_valid)} for C = {C}')\n",
    "print(\"\\n\")\n",
    "C = 0.3\n",
    "model = trainLR_Model(C=C)\n",
    "print(f'train.score = {model.score(X_train,y_train)} for C = {C}')\n",
    "print(f'valid.score = {model.score(X_valid,y_valid)} for C = {C}')\n",
    "print(\"\\n\")\n",
    "C = 0.1\n",
    "model = trainLR_Model(C=C)\n",
    "print(f'train.score = {model.score(X_train,y_train)} for C = {C}')\n",
    "print(f'valid.score = {model.score(X_valid,y_valid)} for C = {C}')\n",
    "print(\"\\n\")\n"
   ]
  },
  {
   "cell_type": "code",
   "execution_count": 36,
   "id": "dd80487e",
   "metadata": {},
   "outputs": [
    {
     "name": "stdout",
     "output_type": "stream",
     "text": [
      "test.score = 0.9985227272727273 for C = 5.0\n"
     ]
    }
   ],
   "source": [
    "C = 5.0\n",
    "model = trainLR_Model(C=C)\n",
    "print(f'test.score = {model.score(X_test,y_test)} for C = {C}')\n"
   ]
  },
  {
   "cell_type": "code",
   "execution_count": 43,
   "id": "6cb491f7",
   "metadata": {},
   "outputs": [
    {
     "name": "stdout",
     "output_type": "stream",
     "text": [
      "acc 0.9985227272727273\n",
      "recall 0.9984276729559748\n",
      "precision 0.9986519883172321\n",
      "F1 0.9985398180388633\n"
     ]
    }
   ],
   "source": [
    "yp = model.predict(X_test)\n",
    "print('acc', accuracy_score(y_test, yp))\n",
    "print('recall', recall_score(y_test, yp))\n",
    "print('precision', precision_score(y_test, yp))\n",
    "print('F1', f1_score(y_test, yp))"
   ]
  },
  {
   "cell_type": "code",
   "execution_count": 44,
   "id": "b6356878",
   "metadata": {},
   "outputs": [
    {
     "data": {
      "text/html": [
       "<div>\n",
       "<style scoped>\n",
       "    .dataframe tbody tr th:only-of-type {\n",
       "        vertical-align: middle;\n",
       "    }\n",
       "\n",
       "    .dataframe tbody tr th {\n",
       "        vertical-align: top;\n",
       "    }\n",
       "\n",
       "    .dataframe thead th {\n",
       "        text-align: right;\n",
       "    }\n",
       "</style>\n",
       "<table border=\"1\" class=\"dataframe\">\n",
       "  <thead>\n",
       "    <tr style=\"text-align: right;\">\n",
       "      <th></th>\n",
       "      <th>0</th>\n",
       "      <th>1</th>\n",
       "    </tr>\n",
       "  </thead>\n",
       "  <tbody>\n",
       "    <tr>\n",
       "      <th>0</th>\n",
       "      <td>4342</td>\n",
       "      <td>6</td>\n",
       "    </tr>\n",
       "    <tr>\n",
       "      <th>1</th>\n",
       "      <td>7</td>\n",
       "      <td>4445</td>\n",
       "    </tr>\n",
       "  </tbody>\n",
       "</table>\n",
       "</div>"
      ],
      "text/plain": [
       "      0     1\n",
       "0  4342     6\n",
       "1     7  4445"
      ]
     },
     "execution_count": 44,
     "metadata": {},
     "output_type": "execute_result"
    }
   ],
   "source": [
    "pd.DataFrame(confusion_matrix(y_test,yp))"
   ]
  },
  {
   "cell_type": "code",
   "execution_count": 47,
   "id": "f637a032",
   "metadata": {},
   "outputs": [
    {
     "data": {
      "text/plain": [
       "Text(0.5, 0, 'recall')"
      ]
     },
     "execution_count": 47,
     "metadata": {},
     "output_type": "execute_result"
    },
    {
     "data": {
      "image/png": "[encoded data removed]",
      "text/plain": [
       "<Figure size 432x288 with 1 Axes>"
      ]
     },
     "metadata": {
      "needs_background": "light"
     },
     "output_type": "display_data"
    }
   ],
   "source": [
    "ypp = model.predict_proba(X_test)\n",
    "pre, rec, th = precision_recall_curve(y_test, ypp[:,1])\n",
    "plt.plot(rec,pre,'k.')\n",
    "plt.ylabel('precision')\n",
    "plt.xlabel('recall')"
   ]
  },
  {
   "cell_type": "code",
   "execution_count": 51,
   "id": "7c1912ca",
   "metadata": {},
   "outputs": [
    {
     "data": {
      "text/plain": [
       "Text(0.7, 0.2, 'AUC=1.000')"
      ]
     },
     "execution_count": 51,
     "metadata": {},
     "output_type": "execute_result"
    },
    {
     "data": {
      "image/png": "[encoded data removed]",
      "text/plain": [
       "<Figure size 432x288 with 1 Axes>"
      ]
     },
     "metadata": {
      "needs_background": "light"
     },
     "output_type": "display_data"
    }
   ],
   "source": [
    "fpr, tpr, th = roc_curve(y_test, ypp[:,1])\n",
    "auc = roc_auc_score(y_test, ypp[:,1])\n",
    "plt.title('ROC Curve')\n",
    "plt.plot(fpr, tpr, 'k-')\n",
    "plt.plot(np.arange(0,1.1,0.1),np.arange(0,1.1,0.1),'r--')\n",
    "plt.xlabel('FPR')\n",
    "plt.ylabel('TPR')\n",
    "plt.text(0.7, 0.2, 'AUC='+\"{:.3f}\".format(auc))"
   ]
  },
  {
   "cell_type": "code",
   "execution_count": null,
   "id": "5e029496",
   "metadata": {},
   "outputs": [],
   "source": []
  }
 ],
 "metadata": {
  "kernelspec": {
   "display_name": "Python 3 (ipykernel)",
   "language": "python",
   "name": "python3"
  },
  "language_info": {
   "codemirror_mode": {
    "name": "ipython",
    "version": 3
   },
   "file_extension": ".py",
   "mimetype": "text/x-python",
   "name": "python",
   "nbconvert_exporter": "python",
   "pygments_lexer": "ipython3",
   "version": "3.7.11"
  }
 },
 "nbformat": 4,
 "nbformat_minor": 5
}
