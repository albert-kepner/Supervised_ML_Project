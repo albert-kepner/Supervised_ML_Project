{
 "cells": [
  {
   "cell_type": "code",
   "execution_count": 1,
   "id": "e65dd428",
   "metadata": {},
   "outputs": [],
   "source": [
    "import pandas as pd\n",
    "import numpy as np\n",
    "import seaborn as sns\n",
    "import matplotlib.pyplot as plt\n",
    "from sklearn.model_selection import train_test_split\n",
    "from sklearn.metrics import confusion_matrix, accuracy_score, f1_score, precision_score, recall_score\n",
    "from sklearn.metrics import precision_recall_curve\n",
    "from sklearn.metrics import roc_curve, auc\n",
    "from sklearn.metrics import roc_auc_score\n",
    "\n",
    "## Read the training and test data sets previously split and stored as separage csv files\n",
    "## The last column labelled '86' is the 0/1 label indicationg benign/malware for each sample row.\n",
    "\n",
    "df_train = pd.read_csv(\"data/train_data.csv\")\n",
    "df_test = pd.read_csv(\"data/test_data.csv\")\n",
    "\n",
    "last_column = df_train.shape[1] - 1 ## index of the label column\n",
    "X_train = df_train.iloc[:,:last_column]\n",
    "y_train = df_train.iloc[:,last_column]\n",
    "\n",
    "X_test = df_test.iloc[:,:last_column]\n",
    "y_test = df_test.iloc[:,last_column]"
   ]
  },
  {
   "cell_type": "code",
   "execution_count": 12,
   "id": "551cee29",
   "metadata": {},
   "outputs": [
    {
     "name": "stdout",
     "output_type": "stream",
     "text": [
      "Fitting 5 folds for each of 18 candidates, totalling 90 fits\n",
      "[CV 1/5] END ............................C=0.01;, score=0.946 total time=   0.0s\n",
      "[CV 2/5] END ............................C=0.01;, score=0.948 total time=   0.0s\n",
      "[CV 3/5] END ............................C=0.01;, score=0.954 total time=   0.0s\n",
      "[CV 4/5] END ............................C=0.01;, score=0.955 total time=   0.0s\n",
      "[CV 5/5] END ............................C=0.01;, score=0.951 total time=   0.0s\n",
      "[CV 1/5] END ............................C=0.02;, score=0.949 total time=   0.0s\n",
      "[CV 2/5] END ............................C=0.02;, score=0.950 total time=   0.0s\n",
      "[CV 3/5] END ............................C=0.02;, score=0.957 total time=   0.0s\n",
      "[CV 4/5] END ............................C=0.02;, score=0.958 total time=   0.0s\n",
      "[CV 5/5] END ............................C=0.02;, score=0.953 total time=   0.0s\n",
      "[CV 1/5] END ............................C=0.05;, score=0.953 total time=   0.0s\n",
      "[CV 2/5] END ............................C=0.05;, score=0.954 total time=   0.0s\n",
      "[CV 3/5] END ............................C=0.05;, score=0.961 total time=   0.0s\n",
      "[CV 4/5] END ............................C=0.05;, score=0.961 total time=   0.0s\n",
      "[CV 5/5] END ............................C=0.05;, score=0.955 total time=   0.0s\n",
      "[CV 1/5] END .............................C=0.1;, score=0.957 total time=   0.0s\n",
      "[CV 2/5] END .............................C=0.1;, score=0.957 total time=   0.0s\n",
      "[CV 3/5] END .............................C=0.1;, score=0.962 total time=   0.0s\n",
      "[CV 4/5] END .............................C=0.1;, score=0.962 total time=   0.0s\n",
      "[CV 5/5] END .............................C=0.1;, score=0.959 total time=   0.0s\n",
      "[CV 1/5] END .............................C=0.2;, score=0.956 total time=   0.0s\n",
      "[CV 2/5] END .............................C=0.2;, score=0.957 total time=   0.0s\n",
      "[CV 3/5] END .............................C=0.2;, score=0.962 total time=   0.0s\n",
      "[CV 4/5] END .............................C=0.2;, score=0.962 total time=   0.0s\n",
      "[CV 5/5] END .............................C=0.2;, score=0.959 total time=   0.0s\n",
      "[CV 1/5] END .............................C=0.5;, score=0.957 total time=   0.1s\n",
      "[CV 2/5] END .............................C=0.5;, score=0.958 total time=   0.0s\n",
      "[CV 3/5] END .............................C=0.5;, score=0.963 total time=   0.0s\n",
      "[CV 4/5] END .............................C=0.5;, score=0.963 total time=   0.0s\n",
      "[CV 5/5] END .............................C=0.5;, score=0.960 total time=   0.0s\n",
      "[CV 1/5] END .............................C=1.0;, score=0.957 total time=   0.0s\n",
      "[CV 2/5] END .............................C=1.0;, score=0.959 total time=   0.1s\n",
      "[CV 3/5] END .............................C=1.0;, score=0.963 total time=   0.1s\n",
      "[CV 4/5] END .............................C=1.0;, score=0.963 total time=   0.1s\n",
      "[CV 5/5] END .............................C=1.0;, score=0.961 total time=   0.1s\n",
      "[CV 1/5] END .............................C=2.0;, score=0.958 total time=   0.1s\n",
      "[CV 2/5] END .............................C=2.0;, score=0.959 total time=   0.1s\n",
      "[CV 3/5] END .............................C=2.0;, score=0.963 total time=   0.1s\n",
      "[CV 4/5] END .............................C=2.0;, score=0.963 total time=   0.1s\n",
      "[CV 5/5] END .............................C=2.0;, score=0.960 total time=   0.1s\n",
      "[CV 1/5] END .............................C=5.0;, score=0.958 total time=   0.1s\n",
      "[CV 2/5] END .............................C=5.0;, score=0.960 total time=   0.1s\n",
      "[CV 3/5] END .............................C=5.0;, score=0.963 total time=   0.1s\n",
      "[CV 4/5] END .............................C=5.0;, score=0.963 total time=   0.1s\n",
      "[CV 5/5] END .............................C=5.0;, score=0.961 total time=   0.1s\n",
      "[CV 1/5] END ............................C=10.0;, score=0.959 total time=   0.1s\n",
      "[CV 2/5] END ............................C=10.0;, score=0.961 total time=   0.1s\n",
      "[CV 3/5] END ............................C=10.0;, score=0.963 total time=   0.2s\n",
      "[CV 4/5] END ............................C=10.0;, score=0.963 total time=   0.2s\n",
      "[CV 5/5] END ............................C=10.0;, score=0.961 total time=   0.1s\n",
      "[CV 1/5] END ............................C=20.0;, score=0.959 total time=   0.2s\n",
      "[CV 2/5] END ............................C=20.0;, score=0.960 total time=   0.2s\n",
      "[CV 3/5] END ............................C=20.0;, score=0.963 total time=   0.2s\n",
      "[CV 4/5] END ............................C=20.0;, score=0.963 total time=   0.2s\n",
      "[CV 5/5] END ............................C=20.0;, score=0.961 total time=   0.3s\n",
      "[CV 1/5] END ............................C=50.0;, score=0.959 total time=   0.2s\n",
      "[CV 2/5] END ............................C=50.0;, score=0.961 total time=   0.3s\n",
      "[CV 3/5] END ............................C=50.0;, score=0.962 total time=   0.3s\n",
      "[CV 4/5] END ............................C=50.0;, score=0.963 total time=   0.3s\n",
      "[CV 5/5] END ............................C=50.0;, score=0.961 total time=   0.3s\n",
      "[CV 1/5] END ...........................C=100.0;, score=0.959 total time=   0.3s\n",
      "[CV 2/5] END ...........................C=100.0;, score=0.961 total time=   0.4s\n",
      "[CV 3/5] END ...........................C=100.0;, score=0.962 total time=   0.2s\n",
      "[CV 4/5] END ...........................C=100.0;, score=0.963 total time=   0.4s\n",
      "[CV 5/5] END ...........................C=100.0;, score=0.961 total time=   0.4s\n",
      "[CV 1/5] END ...........................C=200.0;, score=0.959 total time=   0.4s\n",
      "[CV 2/5] END ...........................C=200.0;, score=0.961 total time=   0.5s\n",
      "[CV 3/5] END ...........................C=200.0;, score=0.962 total time=   0.4s\n",
      "[CV 4/5] END ...........................C=200.0;, score=0.963 total time=   0.4s\n",
      "[CV 5/5] END ...........................C=200.0;, score=0.961 total time=   0.4s\n",
      "[CV 1/5] END ...........................C=500.0;, score=0.959 total time=   0.4s\n",
      "[CV 2/5] END ...........................C=500.0;, score=0.961 total time=   0.7s\n",
      "[CV 3/5] END ...........................C=500.0;, score=0.962 total time=   0.6s\n",
      "[CV 4/5] END ...........................C=500.0;, score=0.963 total time=   0.5s\n",
      "[CV 5/5] END ...........................C=500.0;, score=0.961 total time=   0.7s\n",
      "[CV 1/5] END ..........................C=1000.0;, score=0.959 total time=   0.7s\n",
      "[CV 2/5] END ..........................C=1000.0;, score=0.961 total time=   0.8s\n",
      "[CV 3/5] END ..........................C=1000.0;, score=0.962 total time=   0.9s\n",
      "[CV 4/5] END ..........................C=1000.0;, score=0.963 total time=   0.5s\n",
      "[CV 5/5] END ..........................C=1000.0;, score=0.962 total time=   0.4s\n",
      "[CV 1/5] END ..........................C=2000.0;, score=0.959 total time=   0.7s\n",
      "[CV 2/5] END ..........................C=2000.0;, score=0.961 total time=   0.6s\n",
      "[CV 3/5] END ..........................C=2000.0;, score=0.962 total time=   0.5s\n",
      "[CV 4/5] END ..........................C=2000.0;, score=0.963 total time=   0.4s\n",
      "[CV 5/5] END ..........................C=2000.0;, score=0.962 total time=   0.6s\n",
      "[CV 1/5] END ..........................C=5000.0;, score=0.959 total time=   0.4s\n",
      "[CV 2/5] END ..........................C=5000.0;, score=0.961 total time=   0.4s\n",
      "[CV 3/5] END ..........................C=5000.0;, score=0.962 total time=   0.4s\n",
      "[CV 4/5] END ..........................C=5000.0;, score=0.963 total time=   0.4s\n",
      "[CV 5/5] END ..........................C=5000.0;, score=0.962 total time=   0.4s\n"
     ]
    },
    {
     "data": {
      "text/plain": [
       "GridSearchCV(estimator=LogisticRegression(max_iter=5000),\n",
       "             param_grid={'C': [0.01, 0.02, 0.05, 0.1, 0.2, 0.5, 1.0, 2.0, 5.0,\n",
       "                               10.0, 20.0, 50.0, 100.0, 200.0, 500.0, 1000.0,\n",
       "                               2000.0, 5000.0]},\n",
       "             scoring='accuracy', verbose=3)"
      ]
     },
     "execution_count": 12,
     "metadata": {},
     "output_type": "execute_result"
    }
   ],
   "source": [
    "from sklearn.linear_model import LogisticRegression\n",
    "from sklearn.model_selection import GridSearchCV\n",
    "\n",
    "estimator = LogisticRegression(max_iter=5000)\n",
    "parameters = {'C': [0.01, 0.02, 0.05, 0.1, 0.2, 0.5, 1.0, 2.0, 5.0, 10.0, \n",
    "                    20.0, 50.0, 100.0, 200.0, 500.0, 1000.0, 2000.0, 5000.0]}\n",
    "\n",
    "model = GridSearchCV(estimator, parameters, scoring='accuracy', verbose=3)\n",
    "\n",
    "model.fit(X_train, y_train)"
   ]
  },
  {
   "cell_type": "code",
   "execution_count": 13,
   "id": "7827ce31",
   "metadata": {},
   "outputs": [
    {
     "data": {
      "text/plain": [
       "{'C': 1000.0}"
      ]
     },
     "execution_count": 13,
     "metadata": {},
     "output_type": "execute_result"
    }
   ],
   "source": [
    "model.best_params_"
   ]
  },
  {
   "cell_type": "code",
   "execution_count": 9,
   "id": "1013c65c",
   "metadata": {},
   "outputs": [
    {
     "data": {
      "text/plain": [
       "Text(0.5, 0, 'recall')"
      ]
     },
     "execution_count": 9,
     "metadata": {},
     "output_type": "execute_result"
    },
    {
     "data": {
      "image/png": "[encoded data removed]",
      "text/plain": [
       "<Figure size 432x288 with 1 Axes>"
      ]
     },
     "metadata": {
      "needs_background": "light"
     },
     "output_type": "display_data"
    }
   ],
   "source": [
    "ypp = model.predict_proba(X_test)\n",
    "pre, rec, th = precision_recall_curve(y_test, ypp[:,1])\n",
    "plt.plot(rec,pre,'k.')\n",
    "plt.ylabel('precision')\n",
    "plt.xlabel('recall')"
   ]
  },
  {
   "cell_type": "code",
   "execution_count": 10,
   "id": "87415708",
   "metadata": {},
   "outputs": [
    {
     "data": {
      "text/plain": [
       "Text(0.7, 0.2, 'AUC=0.988')"
      ]
     },
     "execution_count": 10,
     "metadata": {},
     "output_type": "execute_result"
    },
    {
     "data": {
      "image/png": "[encoded data removed]",
      "text/plain": [
       "<Figure size 432x288 with 1 Axes>"
      ]
     },
     "metadata": {
      "needs_background": "light"
     },
     "output_type": "display_data"
    }
   ],
   "source": [
    "fpr, tpr, th = roc_curve(y_test, ypp[:,1])\n",
    "auc = roc_auc_score(y_test, ypp[:,1])\n",
    "plt.title('ROC Curve')\n",
    "plt.plot(fpr, tpr, 'k-')\n",
    "plt.plot(np.arange(0,1.1,0.1),np.arange(0,1.1,0.1),'r--')\n",
    "plt.xlabel('FPR')\n",
    "plt.ylabel('TPR')\n",
    "plt.text(0.7, 0.2, 'AUC='+\"{:.3f}\".format(auc))"
   ]
  },
  {
   "cell_type": "code",
   "execution_count": 11,
   "id": "1c77eadc",
   "metadata": {},
   "outputs": [
    {
     "name": "stdout",
     "output_type": "stream",
     "text": [
      "acc 0.956590909090909\n",
      "recall 0.9591194968553459\n",
      "precision 0.9552572706935123\n",
      "F1 0.9571844877830084\n"
     ]
    },
    {
     "data": {
      "text/html": [
       "<div>\n",
       "<style scoped>\n",
       "    .dataframe tbody tr th:only-of-type {\n",
       "        vertical-align: middle;\n",
       "    }\n",
       "\n",
       "    .dataframe tbody tr th {\n",
       "        vertical-align: top;\n",
       "    }\n",
       "\n",
       "    .dataframe thead th {\n",
       "        text-align: right;\n",
       "    }\n",
       "</style>\n",
       "<table border=\"1\" class=\"dataframe\">\n",
       "  <thead>\n",
       "    <tr style=\"text-align: right;\">\n",
       "      <th></th>\n",
       "      <th>0</th>\n",
       "      <th>1</th>\n",
       "    </tr>\n",
       "  </thead>\n",
       "  <tbody>\n",
       "    <tr>\n",
       "      <th>0</th>\n",
       "      <td>4148</td>\n",
       "      <td>200</td>\n",
       "    </tr>\n",
       "    <tr>\n",
       "      <th>1</th>\n",
       "      <td>182</td>\n",
       "      <td>4270</td>\n",
       "    </tr>\n",
       "  </tbody>\n",
       "</table>\n",
       "</div>"
      ],
      "text/plain": [
       "      0     1\n",
       "0  4148   200\n",
       "1   182  4270"
      ]
     },
     "execution_count": 11,
     "metadata": {},
     "output_type": "execute_result"
    }
   ],
   "source": [
    "yp = model.predict(X_test)\n",
    "print('acc', accuracy_score(y_test, yp))\n",
    "print('recall', recall_score(y_test, yp))\n",
    "print('precision', precision_score(y_test, yp))\n",
    "print('F1', f1_score(y_test, yp))\n",
    "pd.DataFrame(confusion_matrix(y_test,yp))"
   ]
  },
  {
   "cell_type": "code",
   "execution_count": null,
   "id": "002df362",
   "metadata": {},
   "outputs": [],
   "source": []
  }
 ],
 "metadata": {
  "kernelspec": {
   "display_name": "Python 3 (ipykernel)",
   "language": "python",
   "name": "python3"
  },
  "language_info": {
   "codemirror_mode": {
    "name": "ipython",
    "version": 3
   },
   "file_extension": ".py",
   "mimetype": "text/x-python",
   "name": "python",
   "nbconvert_exporter": "python",
   "pygments_lexer": "ipython3",
   "version": "3.7.11"
  }
 },
 "nbformat": 4,
 "nbformat_minor": 5
}
