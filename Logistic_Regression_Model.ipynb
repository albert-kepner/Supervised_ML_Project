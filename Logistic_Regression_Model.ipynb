{
 "cells": [
  {
   "cell_type": "code",
   "execution_count": 32,
   "id": "1a598ad2",
   "metadata": {},
   "outputs": [],
   "source": [
    "import pandas as pd\n",
    "import numpy as np\n",
    "import seaborn as sns\n",
    "import matplotlib.pyplot as plt\n",
    "from sklearn.model_selection import train_test_split\n",
    "\n",
    "## Read the training and test data sets previously split and stored as separage csv files\n",
    "## The last column labelled '86' is the 0/1 label indicationg benign/malware for each sample row.\n",
    "\n",
    "## We will split the training data into a set for actual training and a validation set.\n",
    "## That way we can tune the model before doing a final evaluation with the test data set.\n",
    "df_train_and_valid = pd.read_csv(\"data/train_data.csv\")\n",
    "df_test = pd.read_csv(\"data/test_data.csv\")\n",
    "\n",
    "df_train, df_valid = train_test_split(df_train_and_valid, test_size = 0.25, random_state=47)\n",
    "num_columns = df_train.shape[1]\n",
    "X_train = df_train.iloc[:,:num_columns-1]\n",
    "y_train = df_train.iloc[:,num_columns-1]\n",
    "X_valid = df_valid.iloc[:,:num_columns-1]\n",
    "y_valid = df_valid.iloc[:,num_columns-1]\n",
    "X_test = df_test.iloc[:,:num_columns-1]\n",
    "y_test = df_test.iloc[:,num_columns-1]\n"
   ]
  },
  {
   "cell_type": "code",
   "execution_count": 33,
   "id": "1807da1f",
   "metadata": {},
   "outputs": [],
   "source": [
    "def trainLR_Model(C=1.0):\n",
    "    model = LogisticRegression ( tol=0.0001, C=C, max_iter=5000 )\n",
    "    model.fit(X_train, y_train)\n",
    "    return model"
   ]
  },
  {
   "cell_type": "code",
   "execution_count": null,
   "id": "dabfbe74",
   "metadata": {},
   "outputs": [],
   "source": []
  },
  {
   "cell_type": "code",
   "execution_count": 35,
   "id": "f985b69d",
   "metadata": {},
   "outputs": [
    {
     "name": "stdout",
     "output_type": "stream",
     "text": [
      "train.score = 0.9996753035911423 for C = 10.0\n",
      "valid.score = 0.9994155464640561 for C = 10.0\n",
      "\n",
      "\n",
      "train.score = 0.9993506071822845 for C = 5.0\n",
      "valid.score = 0.9988310929281122 for C = 5.0\n",
      "\n",
      "\n",
      "train.score = 0.9994804857458276 for C = 1.0\n",
      "valid.score = 0.9996103643093708 for C = 1.0\n",
      "\n",
      "\n",
      "train.score = 0.9920774076238716 for C = 0.3\n",
      "valid.score = 0.9924021040327294 for C = 0.3\n",
      "\n",
      "\n",
      "train.score = 0.9864276901097474 for C = 0.1\n",
      "valid.score = 0.9881161114358075 for C = 0.1\n",
      "\n",
      "\n"
     ]
    }
   ],
   "source": [
    "C = 10.0\n",
    "model = trainLR_Model(C=C)\n",
    "print(f'train.score = {model.score(X_train,y_train)} for C = {C}')\n",
    "print(f'valid.score = {model.score(X_valid,y_valid)} for C = {C}')\n",
    "print(\"\\n\")\n",
    "C = 5.0\n",
    "model = trainLR_Model(C=C)\n",
    "print(f'train.score = {model.score(X_train,y_train)} for C = {C}')\n",
    "print(f'valid.score = {model.score(X_valid,y_valid)} for C = {C}')\n",
    "print(\"\\n\")\n",
    "C = 1.0\n",
    "model = trainLR_Model(C=C)\n",
    "print(f'train.score = {model.score(X_train,y_train)} for C = {C}')\n",
    "print(f'valid.score = {model.score(X_valid,y_valid)} for C = {C}')\n",
    "print(\"\\n\")\n",
    "C = 0.3\n",
    "model = trainLR_Model(C=C)\n",
    "print(f'train.score = {model.score(X_train,y_train)} for C = {C}')\n",
    "print(f'valid.score = {model.score(X_valid,y_valid)} for C = {C}')\n",
    "print(\"\\n\")\n",
    "C = 0.1\n",
    "model = trainLR_Model(C=C)\n",
    "print(f'train.score = {model.score(X_train,y_train)} for C = {C}')\n",
    "print(f'valid.score = {model.score(X_valid,y_valid)} for C = {C}')\n",
    "print(\"\\n\")\n"
   ]
  },
  {
   "cell_type": "code",
   "execution_count": 36,
   "id": "44377cb7",
   "metadata": {},
   "outputs": [
    {
     "name": "stdout",
     "output_type": "stream",
     "text": [
      "test.score = 0.9985227272727273 for C = 5.0\n"
     ]
    }
   ],
   "source": [
    "C = 5.0\n",
    "model = trainLR_Model(C=C)\n",
    "print(f'test.score = {model.score(X_test,y_test)} for C = {C}')\n"
   ]
  },
  {
   "cell_type": "code",
   "execution_count": null,
   "id": "1f312c74",
   "metadata": {},
   "outputs": [],
   "source": []
  }
 ],
 "metadata": {
  "kernelspec": {
   "display_name": "Python 3 (ipykernel)",
   "language": "python",
   "name": "python3"
  },
  "language_info": {
   "codemirror_mode": {
    "name": "ipython",
    "version": 3
   },
   "file_extension": ".py",
   "mimetype": "text/x-python",
   "name": "python",
   "nbconvert_exporter": "python",
   "pygments_lexer": "ipython3",
   "version": "3.7.11"
  }
 },
 "nbformat": 4,
 "nbformat_minor": 5
}
