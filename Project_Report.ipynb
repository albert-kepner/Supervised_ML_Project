{
 "cells": [
  {
   "cell_type": "markdown",
   "id": "bbb6d9f6",
   "metadata": {},
   "source": [
    "# Machine Learning to Detect Android Malware using Android App Permissions"
   ]
  },
  {
   "cell_type": "markdown",
   "id": "1e23441c",
   "metadata": {},
   "source": [
    "## Project Overview"
   ]
  },
  {
   "cell_type": "markdown",
   "id": "66a472f3",
   "metadata": {},
   "source": [
    "This project uses a public data set of Android permissions collected from over 29000 benign and malware Android apps.\n",
    "The goal of my project is to explore several supervised ML algorithms and compare how effectively they \n",
    "can distinguish harmless apps from malware. The problem is of interest because computer malware \n",
    "on mobile devices has significant economic impact as well as violations of privacy. \n",
    "This is a supervised ML problem using a labeled data set. The task is binary classification -- determine whether a given app is \n",
    "likely to be malware or not\n",
    "based on the presence or absence of specific Android permissions."
   ]
  },
  {
   "cell_type": "markdown",
   "id": "3c3ca13c",
   "metadata": {},
   "source": [
    "### Project Repository"
   ]
  },
  {
   "cell_type": "markdown",
   "id": "1512dba6",
   "metadata": {},
   "source": [
    "https://github.com/albert-kepner/Supervised_ML_Project"
   ]
  },
  {
   "cell_type": "markdown",
   "id": "3a52fae4",
   "metadata": {},
   "source": [
    "### The Data Set"
   ]
  },
  {
   "cell_type": "markdown",
   "id": "1cf68071",
   "metadata": {},
   "source": [
    "This project uses the NATICUSdroid (Android Permissions) Dataset from UCI ML data repository: https://archive.ics.uci.edu/ml/datasets.php.\n",
    "A link to this specific data set is here: https://archive-beta.ics.uci.edu/ml/datasets/naticusdroid+android+permissions+dataset .\n",
    "\n",
    "Citation: Mathur, Akshay & Mathur, Akshay. (2022). NATICUSdroid (Android Permissions) Dataset. UCI Machine Learning Repository."
   ]
  },
  {
   "cell_type": "markdown",
   "id": "f9c9e532",
   "metadata": {},
   "source": [
    "The data set data.csv can be downloaded from the above website.\n",
    "The data set consists of 86 features which are either standard or customize Android permissions. These features were selected \n",
    "from a larger set possible Android permissions by the data set authors. These features have already been selected\n",
    "with the goal of maximizing discrimination between malware and benign apps. \n",
    "Each permission is either present or absent for a given app. \n",
    "So we have 86 columns containing 0 or 1 for the presence of a given permission.\n",
    "The last column of the data set is the label which is 0 for benign or 1 for malware. \n",
    "The data is already clean with no missing values.\n",
    "There are 29332 rows where each row represents 1 Android app known to be malware or not.\n",
    "14700 of the apps are malware, and 14632 are benign, so the two classes are evenly balanced.\n",
    "The data was collected from benign and malware Android applications over the period from 2010 to 2019."
   ]
  },
  {
   "cell_type": "markdown",
   "id": "399ab523",
   "metadata": {},
   "source": [
    "## Exploratory Data Analysis and Feature Selection\n",
    "\n",
    "In this data set all the features are permissions encoded 0/1 as is the label. \n",
    "There are limited choices to display this data graphically. One thing of interest is\n",
    "how correlated the features are with each other. I created a correlation matrix and heat map showing all\n",
    "the pairwise correlations between features.\n",
    "\n",
    "See more details in the project notebook here: \n",
    "    \n",
    "https://github.com/albert-kepner/Supervised_ML_Project/blob/master/Data_Set_And_Exploratory_Data_Analysis.ipynb"
   ]
  },
  {
   "cell_type": "markdown",
   "id": "aef142b5",
   "metadata": {},
   "source": [
    "In the above notebook I also looked at the pairwise correlations between the 86 features. \n",
    "I eliminated one feature of each pair with the highest correlation until there were no pairs correlated above 0.90 .\n",
    "This process eliminated 12 features, leaving 74 feature columns.\n",
    "At the end of this notebook, I used sklearn.model_selection.train_test_split \n",
    "to save the training data (70%) and testing data (30%) off in separate CSV files train_data.csv and test_data.csv. This will\n",
    "make it convenient to train and evaluate multiple models on the same data in separate notebooks."
   ]
  },
  {
   "cell_type": "code",
   "execution_count": null,
   "id": "0c4f569e",
   "metadata": {},
   "outputs": [],
   "source": []
  }
 ],
 "metadata": {
  "kernelspec": {
   "display_name": "Python 3 (ipykernel)",
   "language": "python",
   "name": "python3"
  },
  "language_info": {
   "codemirror_mode": {
    "name": "ipython",
    "version": 3
   },
   "file_extension": ".py",
   "mimetype": "text/x-python",
   "name": "python",
   "nbconvert_exporter": "python",
   "pygments_lexer": "ipython3",
   "version": "3.7.11"
  }
 },
 "nbformat": 4,
 "nbformat_minor": 5
}
